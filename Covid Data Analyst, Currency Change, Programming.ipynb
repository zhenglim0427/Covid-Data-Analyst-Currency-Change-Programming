{
    "cells": [
        {
            "cell_type": "markdown",
            "metadata": {},
            "source": "# Programing Question"
        },
        {
            "cell_type": "markdown",
            "metadata": {},
            "source": "#### Build a program that removes duplicates from a list of elements\nInput\t[10, 20, 30, 20, 10, 50, 60, 40, 80, 50, 40]\n\nOutput\t[10, 20, 30, 50, 60, 40, 80]"
        },
        {
            "cell_type": "code",
            "execution_count": 1,
            "metadata": {},
            "outputs": [
                {
                    "data": {
                        "text/plain": "[40, 10, 80, 50, 20, 60, 30]"
                    },
                    "execution_count": 1,
                    "metadata": {},
                    "output_type": "execute_result"
                }
            ],
            "source": "remove_target = [10, 20, 30, 20, 10, 50, 60, 40, 80, 50, 40]\ndedupe_list = list(set(remove_target))\ndedupe_list"
        },
        {
            "cell_type": "markdown",
            "metadata": {},
            "source": "#### Build a program that is given a list of numbers and it will return a list of its prime numbers only\n\nInput\tvalues = list(range(1, 10))\n\nOutput\t[2, 3, 5, 7]"
        },
        {
            "cell_type": "code",
            "execution_count": 2,
            "metadata": {},
            "outputs": [
                {
                    "data": {
                        "text/plain": "[2, 3, 5, 7]"
                    },
                    "execution_count": 2,
                    "metadata": {},
                    "output_type": "execute_result"
                }
            ],
            "source": "values = list(range(1, 10))\nprime_num = []\nfor i in values:\n    if i == 1:\n        continue\n    else:\n        count = 0\n        for j in range(1,i):\n            if i % j == 0:\n                count += 1\n                \n        if count == 1:\n            prime_num.append(i)\n                \nprime_num"
        },
        {
            "cell_type": "markdown",
            "metadata": {},
            "source": "#### Build a program that squares each odd number in a list\n##### hint: A list comprehension can be used to write a one-liner code\n\nInput\tnum_list = range(0, 15)\n\nOutput\t[0, 1, 2, 9, 4, 25, 6, 49, 8, 81, 10, 121, 12, 169, 14]"
        },
        {
            "cell_type": "code",
            "execution_count": 3,
            "metadata": {},
            "outputs": [
                {
                    "data": {
                        "text/plain": "[1, 9, 25, 49, 81, 121, 169]"
                    },
                    "execution_count": 3,
                    "metadata": {},
                    "output_type": "execute_result"
                }
            ],
            "source": "## The question output wrong? Or question wrong\nnum_list = range(0, 15)\nsquare_list = []\nfor i in num_list:\n    if i%2 != 0:\n        square_list.append(i*i)\n        \nsquare_list"
        },
        {
            "cell_type": "markdown",
            "metadata": {},
            "source": "#### \"Write a program to computes the frequency of unique words within a string.\n##### The output should be sorted by keys alphanumerically.\"\n\nInput\tstring = \"New to Python or choosing between Python 2 and Python 3? Read Python 2 or Python 3.\"\n\nOutput\t\"2:2\n3.:1\n3?:1\nNew:1\nPython:5\nRead:1\nand:1\nbetween:1\nchoosing:1\nor:2\nto:1\"\n"
        },
        {
            "cell_type": "code",
            "execution_count": 4,
            "metadata": {},
            "outputs": [
                {
                    "name": "stdout",
                    "output_type": "stream",
                    "text": "2 : 2\n3. : 1\n3? : 1\nNew : 1\nPython : 5\nRead : 1\nand : 1\nbetween : 1\nchoosing : 1\nor : 2\nto : 1\n"
                }
            ],
            "source": "string = \"New to Python or choosing between Python 2 and Python 3? Read Python 2 or Python 3.\"\ndictionary = {}\n\nfor word in string.split():\n    dictionary[word] = dictionary.get(word,0) + 1\n\nfor key in sorted(dictionary):\n    print(\"{} : {}\".format(key,dictionary[key]))"
        },
        {
            "cell_type": "markdown",
            "metadata": {},
            "source": "#### Write a program that takes two lists of elements and returns a single list that contains only the elements that are common between the two (without duplicates).\n##### Hint: Make sure the program works on two lists of different sizes.\n\nInput\t\"list1 = [1, 1, 2, 3, 5, 8, 13, 21, 34, 55, 89]\nlist2 = [1, 2, 3, 4, 5, 6, 7, 8, 9, 10, 11, 12, 13]\"\n\nOutput\t[1, 2, 3, 5, 8, 13]"
        },
        {
            "cell_type": "code",
            "execution_count": 5,
            "metadata": {},
            "outputs": [
                {
                    "data": {
                        "text/plain": "[1, 2, 3, 5, 8, 13]"
                    },
                    "execution_count": 5,
                    "metadata": {},
                    "output_type": "execute_result"
                }
            ],
            "source": "list1 = [1, 1, 2, 3, 5, 8, 13, 21, 34, 55, 89]\nlist2 = [1, 2, 3, 4, 5, 6, 7, 8, 9, 10, 11, 12, 13]\n\n\nlist(set(list2).intersection(set(list1)))"
        },
        {
            "cell_type": "markdown",
            "metadata": {},
            "source": "#### Palindrome function An integer/string is a palindrome when it reads the same backward as forward.\n##### For example, 121 is palindrome while 123 is not.\n\nInput\t\"number = 12345\n\nstring = racecar\"\n\nOutput\t\"Input: number\n\nOutput: False\n\nExplanation: From right to left, it reads as 54321 which is not equals to its input\n\nInput string:\n\nOutput True\n\nExplanation: From right to left, it reads as racecar which is equal to its input\"\n\n"
        },
        {
            "cell_type": "code",
            "execution_count": 6,
            "metadata": {},
            "outputs": [
                {
                    "name": "stdout",
                    "output_type": "stream",
                    "text": "12aaa21\nTrue\n"
                }
            ],
            "source": "wordinput = input()\n\nwordinput = str(wordinput)\nj = 0\nflag = True\nfor i in range(len(wordinput),0 ,-1):\n    if(wordinput[i-1]!=wordinput[j]):\n        flag = False\n        continue\n    j+=1\n    \nprint(flag)"
        },
        {
            "cell_type": "markdown",
            "metadata": {},
            "source": "#### Given two sorted arrays nums1 and nums2 of size m and n respectively, return the median of the two sorted arrays."
        },
        {
            "cell_type": "code",
            "execution_count": 7,
            "metadata": {},
            "outputs": [
                {
                    "name": "stdout",
                    "output_type": "stream",
                    "text": "5\n"
                }
            ],
            "source": "list1 = [1, 2]\nlist2 = [5,6,8]\n\ncombine_list = (list1+list2)\n\nif(len(combine_list)%2==0):\n    print((combine_list[int(len(combine_list)/2)]+combine_list[int(len(combine_list)/2)-1])/2)\nelse:\n    print(combine_list[int(len(combine_list)/2)])\n    "
        },
        {
            "cell_type": "markdown",
            "metadata": {},
            "source": "#### Convert Numeric to Roman Symbol"
        },
        {
            "cell_type": "code",
            "execution_count": 8,
            "metadata": {},
            "outputs": [
                {
                    "name": "stdout",
                    "output_type": "stream",
                    "text": "21325\nMMMMMMMMMMMMMMMMMMMMMCCCXXV\n"
                }
            ],
            "source": "roman_dic = { 1: 'I', 4: 'IV', 5: 'V', 9: 'IX', 10: 'X', 40: 'XL', 50: 'L', 90: 'XC', 100: 'C', 400: 'XD', 500: 'D', 900: 'CM', 1000: 'M'}\nchecking_order = [1000, 900, 500, 400, 100, 90, 50, 40, 10, 9, 5, 4, 1]\n\ninput_number = input()\nroman_list = []\n\ntry:\n    integer_num = int(input_number)\nexcept:\n    print(\"Only Intiger Number Allow\")\nelse:\n    \n    if(integer_num>=0):\n        \n        while(integer_num > 0):\n            for i in checking_order:\n                if(integer_num-i >= 0):\n                    roman_list.append(roman_dic.get(i))\n                    integer_num -= i\n                    break\n        print(\"\".join(roman_list))\n    \n    else:\n        print(\"Positive Number Only\")"
        },
        {
            "cell_type": "markdown",
            "metadata": {},
            "source": "#### Given n pairs of parentheses, write a function to generate all combinations of well-formed parentheses."
        },
        {
            "cell_type": "code",
            "execution_count": 108,
            "metadata": {},
            "outputs": [
                {
                    "data": {
                        "text/plain": "{'((()))', '(()())', '(())()', '()(())', '()()()'}"
                    },
                    "execution_count": 108,
                    "metadata": {},
                    "output_type": "execute_result"
                }
            ],
            "source": "## No time doing try except, PS:(This I learn from youtube) so you might also see the same code as well XD\n\ndef generateParenthesis(n): \n    \n    def recurse(cur, left, right, res=[]):\n        if left:\n            recurse(cur+'(', left-1, right)\n        if right > left:\n            recurse(cur+')', left, right-1)\n        if not right: \n            res.append(cur)\n        return res \n    return set(recurse('', n, n)) \n\ngenerateParenthesis(3)"
        },
        {
            "cell_type": "markdown",
            "metadata": {},
            "source": "# Covid data analysis"
        },
        {
            "cell_type": "code",
            "execution_count": 9,
            "metadata": {},
            "outputs": [
                {
                    "data": {
                        "text/html": "<div>\n<style scoped>\n    .dataframe tbody tr th:only-of-type {\n        vertical-align: middle;\n    }\n\n    .dataframe tbody tr th {\n        vertical-align: top;\n    }\n\n    .dataframe thead th {\n        text-align: right;\n    }\n</style>\n<table border=\"1\" class=\"dataframe\">\n  <thead>\n    <tr style=\"text-align: right;\">\n      <th></th>\n      <th>Province/State</th>\n      <th>Country/Region</th>\n      <th>Lat</th>\n      <th>Long</th>\n      <th>Date</th>\n      <th>Confirmed</th>\n      <th>Deaths</th>\n      <th>Recovered</th>\n      <th>Active</th>\n      <th>WHO Region</th>\n    </tr>\n  </thead>\n  <tbody>\n    <tr>\n      <th>0</th>\n      <td>NaN</td>\n      <td>Afghanistan</td>\n      <td>33.93911</td>\n      <td>67.709953</td>\n      <td>2020-01-22</td>\n      <td>0</td>\n      <td>0</td>\n      <td>0</td>\n      <td>0</td>\n      <td>Eastern Mediterranean</td>\n    </tr>\n    <tr>\n      <th>1</th>\n      <td>NaN</td>\n      <td>Albania</td>\n      <td>41.15330</td>\n      <td>20.168300</td>\n      <td>2020-01-22</td>\n      <td>0</td>\n      <td>0</td>\n      <td>0</td>\n      <td>0</td>\n      <td>Europe</td>\n    </tr>\n    <tr>\n      <th>2</th>\n      <td>NaN</td>\n      <td>Algeria</td>\n      <td>28.03390</td>\n      <td>1.659600</td>\n      <td>2020-01-22</td>\n      <td>0</td>\n      <td>0</td>\n      <td>0</td>\n      <td>0</td>\n      <td>Africa</td>\n    </tr>\n    <tr>\n      <th>3</th>\n      <td>NaN</td>\n      <td>Andorra</td>\n      <td>42.50630</td>\n      <td>1.521800</td>\n      <td>2020-01-22</td>\n      <td>0</td>\n      <td>0</td>\n      <td>0</td>\n      <td>0</td>\n      <td>Europe</td>\n    </tr>\n    <tr>\n      <th>4</th>\n      <td>NaN</td>\n      <td>Angola</td>\n      <td>-11.20270</td>\n      <td>17.873900</td>\n      <td>2020-01-22</td>\n      <td>0</td>\n      <td>0</td>\n      <td>0</td>\n      <td>0</td>\n      <td>Africa</td>\n    </tr>\n  </tbody>\n</table>\n</div>",
                        "text/plain": "  Province/State Country/Region       Lat       Long       Date  Confirmed  \\\n0            NaN    Afghanistan  33.93911  67.709953 2020-01-22          0   \n1            NaN        Albania  41.15330  20.168300 2020-01-22          0   \n2            NaN        Algeria  28.03390   1.659600 2020-01-22          0   \n3            NaN        Andorra  42.50630   1.521800 2020-01-22          0   \n4            NaN         Angola -11.20270  17.873900 2020-01-22          0   \n\n   Deaths  Recovered  Active             WHO Region  \n0       0          0       0  Eastern Mediterranean  \n1       0          0       0                 Europe  \n2       0          0       0                 Africa  \n3       0          0       0                 Europe  \n4       0          0       0                 Africa  "
                    },
                    "execution_count": 9,
                    "metadata": {},
                    "output_type": "execute_result"
                }
            ],
            "source": "# The code was removed by Watson Studio for sharing."
        },
        {
            "cell_type": "code",
            "execution_count": 2,
            "metadata": {},
            "outputs": [],
            "source": "#df_data_1 = pd.read_csv(body, parse_dates=[\"Date\"])  covid_19_clean_complete.csv\n#df_data_1.head()"
        },
        {
            "cell_type": "markdown",
            "metadata": {},
            "source": "## Basic Exploratory Data Analysis (EDA)\n##### After Quick filter view in Excel and do some EDA"
        },
        {
            "cell_type": "code",
            "execution_count": 10,
            "metadata": {},
            "outputs": [],
            "source": "import pandas as pd\nimport numpy as np"
        },
        {
            "cell_type": "code",
            "execution_count": 11,
            "metadata": {},
            "outputs": [
                {
                    "name": "stdout",
                    "output_type": "stream",
                    "text": "<class 'pandas.core.frame.DataFrame'>\nRangeIndex: 49068 entries, 0 to 49067\nData columns (total 10 columns):\n #   Column          Non-Null Count  Dtype         \n---  ------          --------------  -----         \n 0   Province/State  14664 non-null  object        \n 1   Country/Region  49068 non-null  object        \n 2   Lat             49068 non-null  float64       \n 3   Long            49068 non-null  float64       \n 4   Date            49068 non-null  datetime64[ns]\n 5   Confirmed       49068 non-null  int64         \n 6   Deaths          49068 non-null  int64         \n 7   Recovered       49068 non-null  int64         \n 8   Active          49068 non-null  int64         \n 9   WHO Region      49068 non-null  object        \ndtypes: datetime64[ns](1), float64(2), int64(4), object(3)\nmemory usage: 3.7+ MB\n"
                }
            ],
            "source": "df_data_1.info()"
        },
        {
            "cell_type": "code",
            "execution_count": 12,
            "metadata": {},
            "outputs": [
                {
                    "data": {
                        "text/html": "<div>\n<style scoped>\n    .dataframe tbody tr th:only-of-type {\n        vertical-align: middle;\n    }\n\n    .dataframe tbody tr th {\n        vertical-align: top;\n    }\n\n    .dataframe thead th {\n        text-align: right;\n    }\n</style>\n<table border=\"1\" class=\"dataframe\">\n  <thead>\n    <tr style=\"text-align: right;\">\n      <th></th>\n      <th>Lat</th>\n      <th>Long</th>\n      <th>Confirmed</th>\n      <th>Deaths</th>\n      <th>Recovered</th>\n      <th>Active</th>\n    </tr>\n  </thead>\n  <tbody>\n    <tr>\n      <th>count</th>\n      <td>49068.000000</td>\n      <td>49068.000000</td>\n      <td>4.906800e+04</td>\n      <td>49068.000000</td>\n      <td>4.906800e+04</td>\n      <td>4.906800e+04</td>\n    </tr>\n    <tr>\n      <th>mean</th>\n      <td>21.433730</td>\n      <td>23.528236</td>\n      <td>1.688490e+04</td>\n      <td>884.179160</td>\n      <td>7.915713e+03</td>\n      <td>8.085012e+03</td>\n    </tr>\n    <tr>\n      <th>std</th>\n      <td>24.950320</td>\n      <td>70.442740</td>\n      <td>1.273002e+05</td>\n      <td>6313.584411</td>\n      <td>5.480092e+04</td>\n      <td>7.625890e+04</td>\n    </tr>\n    <tr>\n      <th>min</th>\n      <td>-51.796300</td>\n      <td>-135.000000</td>\n      <td>0.000000e+00</td>\n      <td>0.000000</td>\n      <td>0.000000e+00</td>\n      <td>-1.400000e+01</td>\n    </tr>\n    <tr>\n      <th>25%</th>\n      <td>7.873054</td>\n      <td>-15.310100</td>\n      <td>4.000000e+00</td>\n      <td>0.000000</td>\n      <td>0.000000e+00</td>\n      <td>0.000000e+00</td>\n    </tr>\n    <tr>\n      <th>50%</th>\n      <td>23.634500</td>\n      <td>21.745300</td>\n      <td>1.680000e+02</td>\n      <td>2.000000</td>\n      <td>2.900000e+01</td>\n      <td>2.600000e+01</td>\n    </tr>\n    <tr>\n      <th>75%</th>\n      <td>41.204380</td>\n      <td>80.771797</td>\n      <td>1.518250e+03</td>\n      <td>30.000000</td>\n      <td>6.660000e+02</td>\n      <td>6.060000e+02</td>\n    </tr>\n    <tr>\n      <th>max</th>\n      <td>71.706900</td>\n      <td>178.065000</td>\n      <td>4.290259e+06</td>\n      <td>148011.000000</td>\n      <td>1.846641e+06</td>\n      <td>2.816444e+06</td>\n    </tr>\n  </tbody>\n</table>\n</div>",
                        "text/plain": "                Lat          Long     Confirmed         Deaths     Recovered  \\\ncount  49068.000000  49068.000000  4.906800e+04   49068.000000  4.906800e+04   \nmean      21.433730     23.528236  1.688490e+04     884.179160  7.915713e+03   \nstd       24.950320     70.442740  1.273002e+05    6313.584411  5.480092e+04   \nmin      -51.796300   -135.000000  0.000000e+00       0.000000  0.000000e+00   \n25%        7.873054    -15.310100  4.000000e+00       0.000000  0.000000e+00   \n50%       23.634500     21.745300  1.680000e+02       2.000000  2.900000e+01   \n75%       41.204380     80.771797  1.518250e+03      30.000000  6.660000e+02   \nmax       71.706900    178.065000  4.290259e+06  148011.000000  1.846641e+06   \n\n             Active  \ncount  4.906800e+04  \nmean   8.085012e+03  \nstd    7.625890e+04  \nmin   -1.400000e+01  \n25%    0.000000e+00  \n50%    2.600000e+01  \n75%    6.060000e+02  \nmax    2.816444e+06  "
                    },
                    "execution_count": 12,
                    "metadata": {},
                    "output_type": "execute_result"
                }
            ],
            "source": "## Min Max of 'Confirmed' 'Deaths' 'Recover' no problem\n## There are negetive value in Active, we replace all negetive value to 0\ndf_data_1.describe()"
        },
        {
            "cell_type": "code",
            "execution_count": 13,
            "metadata": {},
            "outputs": [
                {
                    "name": "stdout",
                    "output_type": "stream",
                    "text": "Shape of data in Min Date  (261, 10)\nShape of data in Max Date  (261, 10)\nUnique Country 187\n['Afghanistan' 'Albania' 'Algeria' 'Andorra' 'Angola'\n 'Antigua and Barbuda' 'Argentina' 'Armenia' 'Australia' 'Austria'\n 'Azerbaijan' 'Bahamas' 'Bahrain' 'Bangladesh' 'Barbados' 'Belarus'\n 'Belgium' 'Benin' 'Bhutan' 'Bolivia' 'Bosnia and Herzegovina' 'Brazil'\n 'Brunei' 'Bulgaria' 'Burkina Faso' 'Cabo Verde' 'Cambodia' 'Cameroon'\n 'Canada' 'Central African Republic' 'Chad' 'Chile' 'China' 'Colombia'\n 'Congo (Brazzaville)' 'Congo (Kinshasa)' 'Costa Rica' \"Cote d'Ivoire\"\n 'Croatia' 'Cuba' 'Cyprus' 'Czechia' 'Denmark' 'Greenland' 'Djibouti'\n 'Dominican Republic' 'Ecuador' 'Egypt' 'El Salvador' 'Equatorial Guinea'\n 'Eritrea' 'Estonia' 'Eswatini' 'Ethiopia' 'Fiji' 'Finland' 'France'\n 'Gabon' 'Gambia' 'Georgia' 'Germany' 'Ghana' 'Greece' 'Guatemala'\n 'Guinea' 'Guyana' 'Haiti' 'Holy See' 'Honduras' 'Hungary' 'Iceland'\n 'India' 'Indonesia' 'Iran' 'Iraq' 'Ireland' 'Israel' 'Italy' 'Jamaica'\n 'Japan' 'Jordan' 'Kazakhstan' 'Kenya' 'South Korea' 'Kuwait' 'Kyrgyzstan'\n 'Latvia' 'Lebanon' 'Liberia' 'Liechtenstein' 'Lithuania' 'Luxembourg'\n 'Madagascar' 'Malaysia' 'Maldives' 'Malta' 'Mauritania' 'Mauritius'\n 'Mexico' 'Moldova' 'Monaco' 'Mongolia' 'Montenegro' 'Morocco' 'Namibia'\n 'Nepal' 'Netherlands' 'New Zealand' 'Nicaragua' 'Niger' 'Nigeria'\n 'North Macedonia' 'Norway' 'Oman' 'Pakistan' 'Panama' 'Papua New Guinea'\n 'Paraguay' 'Peru' 'Philippines' 'Poland' 'Portugal' 'Qatar' 'Romania'\n 'Russia' 'Rwanda' 'Saint Lucia' 'Saint Vincent and the Grenadines'\n 'San Marino' 'Saudi Arabia' 'Senegal' 'Serbia' 'Seychelles' 'Singapore'\n 'Slovakia' 'Slovenia' 'Somalia' 'South Africa' 'Spain' 'Sri Lanka'\n 'Sudan' 'Suriname' 'Sweden' 'Switzerland' 'Taiwan*' 'Tanzania' 'Thailand'\n 'Togo' 'Trinidad and Tobago' 'Tunisia' 'Turkey' 'Uganda' 'Ukraine'\n 'United Arab Emirates' 'United Kingdom' 'Uruguay' 'US' 'Uzbekistan'\n 'Venezuela' 'Vietnam' 'Zambia' 'Zimbabwe' 'Dominica' 'Grenada'\n 'Mozambique' 'Syria' 'Timor-Leste' 'Belize' 'Laos' 'Libya'\n 'West Bank and Gaza' 'Guinea-Bissau' 'Mali' 'Saint Kitts and Nevis'\n 'Kosovo' 'Burma' 'Botswana' 'Burundi' 'Sierra Leone' 'Malawi'\n 'South Sudan' 'Western Sahara' 'Sao Tome and Principe' 'Yemen' 'Comoros'\n 'Tajikistan' 'Lesotho']\n"
                }
            ],
            "source": "## Got some country split 'Province/State' and 'Country/Region'\n### Grouping for cleanning \nprint(\"Shape of data in Min Date \" , df_data_1[df_data_1['Date']==min(df_data_1['Date'])].shape)\nprint(\"Shape of data in Max Date \" , df_data_1[df_data_1['Date']==max(df_data_1['Date'])].shape)\nprint(\"Unique Country\" , df_data_1['Country/Region'].nunique())\nprint(df_data_1['Country/Region'].unique())"
        },
        {
            "cell_type": "markdown",
            "metadata": {},
            "source": "## Simple Data Cleansing"
        },
        {
            "cell_type": "code",
            "execution_count": 14,
            "metadata": {},
            "outputs": [
                {
                    "data": {
                        "text/plain": "0"
                    },
                    "execution_count": 14,
                    "metadata": {},
                    "output_type": "execute_result"
                }
            ],
            "source": "## Removing 'Active' negetive value\ndf_data_1[df_data_1['Active'] < 0] = 0\ndf_data_1['Active'].min()"
        },
        {
            "cell_type": "code",
            "execution_count": 15,
            "metadata": {},
            "outputs": [],
            "source": "## Drop the column not related to question\ndf_data_1 = df_data_1[['Province/State','Country/Region','Date','Confirmed','Deaths','Recovered','Active','WHO Region']]"
        },
        {
            "cell_type": "code",
            "execution_count": 16,
            "metadata": {},
            "outputs": [],
            "source": "df_data_1['DateOnly'] = pd.to_datetime(df_data_1['Date'], errors='coerce')"
        },
        {
            "cell_type": "code",
            "execution_count": 17,
            "metadata": {},
            "outputs": [
                {
                    "data": {
                        "text/html": "<div>\n<style scoped>\n    .dataframe tbody tr th:only-of-type {\n        vertical-align: middle;\n    }\n\n    .dataframe tbody tr th {\n        vertical-align: top;\n    }\n\n    .dataframe thead th {\n        text-align: right;\n    }\n</style>\n<table border=\"1\" class=\"dataframe\">\n  <thead>\n    <tr style=\"text-align: right;\">\n      <th></th>\n      <th>Province/State</th>\n      <th>Country/Region</th>\n      <th>Date</th>\n      <th>Confirmed</th>\n      <th>Deaths</th>\n      <th>Recovered</th>\n      <th>Active</th>\n      <th>WHO Region</th>\n      <th>DateOnly</th>\n    </tr>\n  </thead>\n  <tbody>\n    <tr>\n      <th>0</th>\n      <td>NaN</td>\n      <td>Afghanistan</td>\n      <td>2020-01-22 00:00:00</td>\n      <td>0</td>\n      <td>0</td>\n      <td>0</td>\n      <td>0</td>\n      <td>Eastern Mediterranean</td>\n      <td>2020-01-22</td>\n    </tr>\n    <tr>\n      <th>1</th>\n      <td>NaN</td>\n      <td>Albania</td>\n      <td>2020-01-22 00:00:00</td>\n      <td>0</td>\n      <td>0</td>\n      <td>0</td>\n      <td>0</td>\n      <td>Europe</td>\n      <td>2020-01-22</td>\n    </tr>\n    <tr>\n      <th>2</th>\n      <td>NaN</td>\n      <td>Algeria</td>\n      <td>2020-01-22 00:00:00</td>\n      <td>0</td>\n      <td>0</td>\n      <td>0</td>\n      <td>0</td>\n      <td>Africa</td>\n      <td>2020-01-22</td>\n    </tr>\n    <tr>\n      <th>3</th>\n      <td>NaN</td>\n      <td>Andorra</td>\n      <td>2020-01-22 00:00:00</td>\n      <td>0</td>\n      <td>0</td>\n      <td>0</td>\n      <td>0</td>\n      <td>Europe</td>\n      <td>2020-01-22</td>\n    </tr>\n    <tr>\n      <th>4</th>\n      <td>NaN</td>\n      <td>Angola</td>\n      <td>2020-01-22 00:00:00</td>\n      <td>0</td>\n      <td>0</td>\n      <td>0</td>\n      <td>0</td>\n      <td>Africa</td>\n      <td>2020-01-22</td>\n    </tr>\n    <tr>\n      <th>...</th>\n      <td>...</td>\n      <td>...</td>\n      <td>...</td>\n      <td>...</td>\n      <td>...</td>\n      <td>...</td>\n      <td>...</td>\n      <td>...</td>\n      <td>...</td>\n    </tr>\n    <tr>\n      <th>49063</th>\n      <td>NaN</td>\n      <td>Sao Tome and Principe</td>\n      <td>2020-07-27 00:00:00</td>\n      <td>865</td>\n      <td>14</td>\n      <td>734</td>\n      <td>117</td>\n      <td>Africa</td>\n      <td>2020-07-27</td>\n    </tr>\n    <tr>\n      <th>49064</th>\n      <td>NaN</td>\n      <td>Yemen</td>\n      <td>2020-07-27 00:00:00</td>\n      <td>1691</td>\n      <td>483</td>\n      <td>833</td>\n      <td>375</td>\n      <td>Eastern Mediterranean</td>\n      <td>2020-07-27</td>\n    </tr>\n    <tr>\n      <th>49065</th>\n      <td>NaN</td>\n      <td>Comoros</td>\n      <td>2020-07-27 00:00:00</td>\n      <td>354</td>\n      <td>7</td>\n      <td>328</td>\n      <td>19</td>\n      <td>Africa</td>\n      <td>2020-07-27</td>\n    </tr>\n    <tr>\n      <th>49066</th>\n      <td>NaN</td>\n      <td>Tajikistan</td>\n      <td>2020-07-27 00:00:00</td>\n      <td>7235</td>\n      <td>60</td>\n      <td>6028</td>\n      <td>1147</td>\n      <td>Europe</td>\n      <td>2020-07-27</td>\n    </tr>\n    <tr>\n      <th>49067</th>\n      <td>NaN</td>\n      <td>Lesotho</td>\n      <td>2020-07-27 00:00:00</td>\n      <td>505</td>\n      <td>12</td>\n      <td>128</td>\n      <td>365</td>\n      <td>Africa</td>\n      <td>2020-07-27</td>\n    </tr>\n  </tbody>\n</table>\n<p>49068 rows \u00d7 9 columns</p>\n</div>",
                        "text/plain": "      Province/State         Country/Region                 Date  Confirmed  \\\n0                NaN            Afghanistan  2020-01-22 00:00:00          0   \n1                NaN                Albania  2020-01-22 00:00:00          0   \n2                NaN                Algeria  2020-01-22 00:00:00          0   \n3                NaN                Andorra  2020-01-22 00:00:00          0   \n4                NaN                 Angola  2020-01-22 00:00:00          0   \n...              ...                    ...                  ...        ...   \n49063            NaN  Sao Tome and Principe  2020-07-27 00:00:00        865   \n49064            NaN                  Yemen  2020-07-27 00:00:00       1691   \n49065            NaN                Comoros  2020-07-27 00:00:00        354   \n49066            NaN             Tajikistan  2020-07-27 00:00:00       7235   \n49067            NaN                Lesotho  2020-07-27 00:00:00        505   \n\n       Deaths  Recovered  Active             WHO Region   DateOnly  \n0           0          0       0  Eastern Mediterranean 2020-01-22  \n1           0          0       0                 Europe 2020-01-22  \n2           0          0       0                 Africa 2020-01-22  \n3           0          0       0                 Europe 2020-01-22  \n4           0          0       0                 Africa 2020-01-22  \n...       ...        ...     ...                    ...        ...  \n49063      14        734     117                 Africa 2020-07-27  \n49064     483        833     375  Eastern Mediterranean 2020-07-27  \n49065       7        328      19                 Africa 2020-07-27  \n49066      60       6028    1147                 Europe 2020-07-27  \n49067      12        128     365                 Africa 2020-07-27  \n\n[49068 rows x 9 columns]"
                    },
                    "execution_count": 17,
                    "metadata": {},
                    "output_type": "execute_result"
                }
            ],
            "source": "\ndf_data_1"
        },
        {
            "cell_type": "code",
            "execution_count": 18,
            "metadata": {},
            "outputs": [
                {
                    "data": {
                        "text/html": "<div>\n<style scoped>\n    .dataframe tbody tr th:only-of-type {\n        vertical-align: middle;\n    }\n\n    .dataframe tbody tr th {\n        vertical-align: top;\n    }\n\n    .dataframe thead th {\n        text-align: right;\n    }\n</style>\n<table border=\"1\" class=\"dataframe\">\n  <thead>\n    <tr style=\"text-align: right;\">\n      <th></th>\n      <th>Province/State</th>\n      <th>Country/Region</th>\n      <th>Date</th>\n      <th>Confirmed</th>\n      <th>Deaths</th>\n      <th>Recovered</th>\n      <th>Active</th>\n      <th>WHO Region</th>\n      <th>DateOnly</th>\n    </tr>\n  </thead>\n  <tbody>\n    <tr>\n      <th>250</th>\n      <td>NaN</td>\n      <td>Sierra Leone</td>\n      <td>2020-01-22 00:00:00</td>\n      <td>0</td>\n      <td>0</td>\n      <td>0</td>\n      <td>0</td>\n      <td>Africa</td>\n      <td>2020-01-22</td>\n    </tr>\n    <tr>\n      <th>251</th>\n      <td>NaN</td>\n      <td>Malawi</td>\n      <td>2020-01-22 00:00:00</td>\n      <td>0</td>\n      <td>0</td>\n      <td>0</td>\n      <td>0</td>\n      <td>Africa</td>\n      <td>2020-01-22</td>\n    </tr>\n    <tr>\n      <th>252</th>\n      <td>Falkland Islands (Malvinas)</td>\n      <td>United Kingdom</td>\n      <td>2020-01-22 00:00:00</td>\n      <td>0</td>\n      <td>0</td>\n      <td>0</td>\n      <td>0</td>\n      <td>Europe</td>\n      <td>2020-01-22</td>\n    </tr>\n    <tr>\n      <th>253</th>\n      <td>Saint Pierre and Miquelon</td>\n      <td>France</td>\n      <td>2020-01-22 00:00:00</td>\n      <td>0</td>\n      <td>0</td>\n      <td>0</td>\n      <td>0</td>\n      <td>Europe</td>\n      <td>2020-01-22</td>\n    </tr>\n    <tr>\n      <th>254</th>\n      <td>NaN</td>\n      <td>South Sudan</td>\n      <td>2020-01-22 00:00:00</td>\n      <td>0</td>\n      <td>0</td>\n      <td>0</td>\n      <td>0</td>\n      <td>Africa</td>\n      <td>2020-01-22</td>\n    </tr>\n    <tr>\n      <th>255</th>\n      <td>NaN</td>\n      <td>Western Sahara</td>\n      <td>2020-01-22 00:00:00</td>\n      <td>0</td>\n      <td>0</td>\n      <td>0</td>\n      <td>0</td>\n      <td>Africa</td>\n      <td>2020-01-22</td>\n    </tr>\n    <tr>\n      <th>256</th>\n      <td>NaN</td>\n      <td>Sao Tome and Principe</td>\n      <td>2020-01-22 00:00:00</td>\n      <td>0</td>\n      <td>0</td>\n      <td>0</td>\n      <td>0</td>\n      <td>Africa</td>\n      <td>2020-01-22</td>\n    </tr>\n    <tr>\n      <th>257</th>\n      <td>NaN</td>\n      <td>Yemen</td>\n      <td>2020-01-22 00:00:00</td>\n      <td>0</td>\n      <td>0</td>\n      <td>0</td>\n      <td>0</td>\n      <td>Eastern Mediterranean</td>\n      <td>2020-01-22</td>\n    </tr>\n    <tr>\n      <th>258</th>\n      <td>NaN</td>\n      <td>Comoros</td>\n      <td>2020-01-22 00:00:00</td>\n      <td>0</td>\n      <td>0</td>\n      <td>0</td>\n      <td>0</td>\n      <td>Africa</td>\n      <td>2020-01-22</td>\n    </tr>\n    <tr>\n      <th>259</th>\n      <td>NaN</td>\n      <td>Tajikistan</td>\n      <td>2020-01-22 00:00:00</td>\n      <td>0</td>\n      <td>0</td>\n      <td>0</td>\n      <td>0</td>\n      <td>Europe</td>\n      <td>2020-01-22</td>\n    </tr>\n    <tr>\n      <th>260</th>\n      <td>NaN</td>\n      <td>Lesotho</td>\n      <td>2020-01-22 00:00:00</td>\n      <td>0</td>\n      <td>0</td>\n      <td>0</td>\n      <td>0</td>\n      <td>Africa</td>\n      <td>2020-01-22</td>\n    </tr>\n    <tr>\n      <th>261</th>\n      <td>NaN</td>\n      <td>Afghanistan</td>\n      <td>2020-01-23 00:00:00</td>\n      <td>0</td>\n      <td>0</td>\n      <td>0</td>\n      <td>0</td>\n      <td>Eastern Mediterranean</td>\n      <td>2020-01-23</td>\n    </tr>\n    <tr>\n      <th>262</th>\n      <td>NaN</td>\n      <td>Albania</td>\n      <td>2020-01-23 00:00:00</td>\n      <td>0</td>\n      <td>0</td>\n      <td>0</td>\n      <td>0</td>\n      <td>Europe</td>\n      <td>2020-01-23</td>\n    </tr>\n    <tr>\n      <th>263</th>\n      <td>NaN</td>\n      <td>Algeria</td>\n      <td>2020-01-23 00:00:00</td>\n      <td>0</td>\n      <td>0</td>\n      <td>0</td>\n      <td>0</td>\n      <td>Africa</td>\n      <td>2020-01-23</td>\n    </tr>\n    <tr>\n      <th>264</th>\n      <td>NaN</td>\n      <td>Andorra</td>\n      <td>2020-01-23 00:00:00</td>\n      <td>0</td>\n      <td>0</td>\n      <td>0</td>\n      <td>0</td>\n      <td>Europe</td>\n      <td>2020-01-23</td>\n    </tr>\n    <tr>\n      <th>265</th>\n      <td>NaN</td>\n      <td>Angola</td>\n      <td>2020-01-23 00:00:00</td>\n      <td>0</td>\n      <td>0</td>\n      <td>0</td>\n      <td>0</td>\n      <td>Africa</td>\n      <td>2020-01-23</td>\n    </tr>\n    <tr>\n      <th>266</th>\n      <td>NaN</td>\n      <td>Antigua and Barbuda</td>\n      <td>2020-01-23 00:00:00</td>\n      <td>0</td>\n      <td>0</td>\n      <td>0</td>\n      <td>0</td>\n      <td>Americas</td>\n      <td>2020-01-23</td>\n    </tr>\n    <tr>\n      <th>267</th>\n      <td>NaN</td>\n      <td>Argentina</td>\n      <td>2020-01-23 00:00:00</td>\n      <td>0</td>\n      <td>0</td>\n      <td>0</td>\n      <td>0</td>\n      <td>Americas</td>\n      <td>2020-01-23</td>\n    </tr>\n    <tr>\n      <th>268</th>\n      <td>NaN</td>\n      <td>Armenia</td>\n      <td>2020-01-23 00:00:00</td>\n      <td>0</td>\n      <td>0</td>\n      <td>0</td>\n      <td>0</td>\n      <td>Europe</td>\n      <td>2020-01-23</td>\n    </tr>\n    <tr>\n      <th>269</th>\n      <td>Australian Capital Territory</td>\n      <td>Australia</td>\n      <td>2020-01-23 00:00:00</td>\n      <td>0</td>\n      <td>0</td>\n      <td>0</td>\n      <td>0</td>\n      <td>Western Pacific</td>\n      <td>2020-01-23</td>\n    </tr>\n    <tr>\n      <th>270</th>\n      <td>New South Wales</td>\n      <td>Australia</td>\n      <td>2020-01-23 00:00:00</td>\n      <td>0</td>\n      <td>0</td>\n      <td>0</td>\n      <td>0</td>\n      <td>Western Pacific</td>\n      <td>2020-01-23</td>\n    </tr>\n    <tr>\n      <th>271</th>\n      <td>Northern Territory</td>\n      <td>Australia</td>\n      <td>2020-01-23 00:00:00</td>\n      <td>0</td>\n      <td>0</td>\n      <td>0</td>\n      <td>0</td>\n      <td>Western Pacific</td>\n      <td>2020-01-23</td>\n    </tr>\n    <tr>\n      <th>272</th>\n      <td>Queensland</td>\n      <td>Australia</td>\n      <td>2020-01-23 00:00:00</td>\n      <td>0</td>\n      <td>0</td>\n      <td>0</td>\n      <td>0</td>\n      <td>Western Pacific</td>\n      <td>2020-01-23</td>\n    </tr>\n    <tr>\n      <th>273</th>\n      <td>South Australia</td>\n      <td>Australia</td>\n      <td>2020-01-23 00:00:00</td>\n      <td>0</td>\n      <td>0</td>\n      <td>0</td>\n      <td>0</td>\n      <td>Western Pacific</td>\n      <td>2020-01-23</td>\n    </tr>\n    <tr>\n      <th>274</th>\n      <td>Tasmania</td>\n      <td>Australia</td>\n      <td>2020-01-23 00:00:00</td>\n      <td>0</td>\n      <td>0</td>\n      <td>0</td>\n      <td>0</td>\n      <td>Western Pacific</td>\n      <td>2020-01-23</td>\n    </tr>\n    <tr>\n      <th>275</th>\n      <td>Victoria</td>\n      <td>Australia</td>\n      <td>2020-01-23 00:00:00</td>\n      <td>0</td>\n      <td>0</td>\n      <td>0</td>\n      <td>0</td>\n      <td>Western Pacific</td>\n      <td>2020-01-23</td>\n    </tr>\n    <tr>\n      <th>276</th>\n      <td>Western Australia</td>\n      <td>Australia</td>\n      <td>2020-01-23 00:00:00</td>\n      <td>0</td>\n      <td>0</td>\n      <td>0</td>\n      <td>0</td>\n      <td>Western Pacific</td>\n      <td>2020-01-23</td>\n    </tr>\n    <tr>\n      <th>277</th>\n      <td>NaN</td>\n      <td>Austria</td>\n      <td>2020-01-23 00:00:00</td>\n      <td>0</td>\n      <td>0</td>\n      <td>0</td>\n      <td>0</td>\n      <td>Europe</td>\n      <td>2020-01-23</td>\n    </tr>\n    <tr>\n      <th>278</th>\n      <td>NaN</td>\n      <td>Azerbaijan</td>\n      <td>2020-01-23 00:00:00</td>\n      <td>0</td>\n      <td>0</td>\n      <td>0</td>\n      <td>0</td>\n      <td>Europe</td>\n      <td>2020-01-23</td>\n    </tr>\n    <tr>\n      <th>279</th>\n      <td>NaN</td>\n      <td>Bahamas</td>\n      <td>2020-01-23 00:00:00</td>\n      <td>0</td>\n      <td>0</td>\n      <td>0</td>\n      <td>0</td>\n      <td>Americas</td>\n      <td>2020-01-23</td>\n    </tr>\n    <tr>\n      <th>280</th>\n      <td>NaN</td>\n      <td>Bahrain</td>\n      <td>2020-01-23 00:00:00</td>\n      <td>0</td>\n      <td>0</td>\n      <td>0</td>\n      <td>0</td>\n      <td>Eastern Mediterranean</td>\n      <td>2020-01-23</td>\n    </tr>\n    <tr>\n      <th>281</th>\n      <td>NaN</td>\n      <td>Bangladesh</td>\n      <td>2020-01-23 00:00:00</td>\n      <td>0</td>\n      <td>0</td>\n      <td>0</td>\n      <td>0</td>\n      <td>South-East Asia</td>\n      <td>2020-01-23</td>\n    </tr>\n    <tr>\n      <th>282</th>\n      <td>NaN</td>\n      <td>Barbados</td>\n      <td>2020-01-23 00:00:00</td>\n      <td>0</td>\n      <td>0</td>\n      <td>0</td>\n      <td>0</td>\n      <td>Americas</td>\n      <td>2020-01-23</td>\n    </tr>\n    <tr>\n      <th>283</th>\n      <td>NaN</td>\n      <td>Belarus</td>\n      <td>2020-01-23 00:00:00</td>\n      <td>0</td>\n      <td>0</td>\n      <td>0</td>\n      <td>0</td>\n      <td>Europe</td>\n      <td>2020-01-23</td>\n    </tr>\n    <tr>\n      <th>284</th>\n      <td>NaN</td>\n      <td>Belgium</td>\n      <td>2020-01-23 00:00:00</td>\n      <td>0</td>\n      <td>0</td>\n      <td>0</td>\n      <td>0</td>\n      <td>Europe</td>\n      <td>2020-01-23</td>\n    </tr>\n    <tr>\n      <th>285</th>\n      <td>NaN</td>\n      <td>Benin</td>\n      <td>2020-01-23 00:00:00</td>\n      <td>0</td>\n      <td>0</td>\n      <td>0</td>\n      <td>0</td>\n      <td>Africa</td>\n      <td>2020-01-23</td>\n    </tr>\n    <tr>\n      <th>286</th>\n      <td>NaN</td>\n      <td>Bhutan</td>\n      <td>2020-01-23 00:00:00</td>\n      <td>0</td>\n      <td>0</td>\n      <td>0</td>\n      <td>0</td>\n      <td>South-East Asia</td>\n      <td>2020-01-23</td>\n    </tr>\n    <tr>\n      <th>287</th>\n      <td>NaN</td>\n      <td>Bolivia</td>\n      <td>2020-01-23 00:00:00</td>\n      <td>0</td>\n      <td>0</td>\n      <td>0</td>\n      <td>0</td>\n      <td>Americas</td>\n      <td>2020-01-23</td>\n    </tr>\n    <tr>\n      <th>288</th>\n      <td>NaN</td>\n      <td>Bosnia and Herzegovina</td>\n      <td>2020-01-23 00:00:00</td>\n      <td>0</td>\n      <td>0</td>\n      <td>0</td>\n      <td>0</td>\n      <td>Europe</td>\n      <td>2020-01-23</td>\n    </tr>\n    <tr>\n      <th>289</th>\n      <td>NaN</td>\n      <td>Brazil</td>\n      <td>2020-01-23 00:00:00</td>\n      <td>0</td>\n      <td>0</td>\n      <td>0</td>\n      <td>0</td>\n      <td>Americas</td>\n      <td>2020-01-23</td>\n    </tr>\n    <tr>\n      <th>290</th>\n      <td>NaN</td>\n      <td>Brunei</td>\n      <td>2020-01-23 00:00:00</td>\n      <td>0</td>\n      <td>0</td>\n      <td>0</td>\n      <td>0</td>\n      <td>Western Pacific</td>\n      <td>2020-01-23</td>\n    </tr>\n    <tr>\n      <th>291</th>\n      <td>NaN</td>\n      <td>Bulgaria</td>\n      <td>2020-01-23 00:00:00</td>\n      <td>0</td>\n      <td>0</td>\n      <td>0</td>\n      <td>0</td>\n      <td>Europe</td>\n      <td>2020-01-23</td>\n    </tr>\n    <tr>\n      <th>292</th>\n      <td>NaN</td>\n      <td>Burkina Faso</td>\n      <td>2020-01-23 00:00:00</td>\n      <td>0</td>\n      <td>0</td>\n      <td>0</td>\n      <td>0</td>\n      <td>Africa</td>\n      <td>2020-01-23</td>\n    </tr>\n    <tr>\n      <th>293</th>\n      <td>NaN</td>\n      <td>Cabo Verde</td>\n      <td>2020-01-23 00:00:00</td>\n      <td>0</td>\n      <td>0</td>\n      <td>0</td>\n      <td>0</td>\n      <td>Africa</td>\n      <td>2020-01-23</td>\n    </tr>\n    <tr>\n      <th>294</th>\n      <td>NaN</td>\n      <td>Cambodia</td>\n      <td>2020-01-23 00:00:00</td>\n      <td>0</td>\n      <td>0</td>\n      <td>0</td>\n      <td>0</td>\n      <td>Western Pacific</td>\n      <td>2020-01-23</td>\n    </tr>\n    <tr>\n      <th>295</th>\n      <td>NaN</td>\n      <td>Cameroon</td>\n      <td>2020-01-23 00:00:00</td>\n      <td>0</td>\n      <td>0</td>\n      <td>0</td>\n      <td>0</td>\n      <td>Africa</td>\n      <td>2020-01-23</td>\n    </tr>\n    <tr>\n      <th>296</th>\n      <td>Alberta</td>\n      <td>Canada</td>\n      <td>2020-01-23 00:00:00</td>\n      <td>0</td>\n      <td>0</td>\n      <td>0</td>\n      <td>0</td>\n      <td>Americas</td>\n      <td>2020-01-23</td>\n    </tr>\n    <tr>\n      <th>297</th>\n      <td>British Columbia</td>\n      <td>Canada</td>\n      <td>2020-01-23 00:00:00</td>\n      <td>0</td>\n      <td>0</td>\n      <td>0</td>\n      <td>0</td>\n      <td>Americas</td>\n      <td>2020-01-23</td>\n    </tr>\n    <tr>\n      <th>298</th>\n      <td>Manitoba</td>\n      <td>Canada</td>\n      <td>2020-01-23 00:00:00</td>\n      <td>0</td>\n      <td>0</td>\n      <td>0</td>\n      <td>0</td>\n      <td>Americas</td>\n      <td>2020-01-23</td>\n    </tr>\n    <tr>\n      <th>299</th>\n      <td>New Brunswick</td>\n      <td>Canada</td>\n      <td>2020-01-23 00:00:00</td>\n      <td>0</td>\n      <td>0</td>\n      <td>0</td>\n      <td>0</td>\n      <td>Americas</td>\n      <td>2020-01-23</td>\n    </tr>\n  </tbody>\n</table>\n</div>",
                        "text/plain": "                   Province/State          Country/Region  \\\n250                           NaN            Sierra Leone   \n251                           NaN                  Malawi   \n252   Falkland Islands (Malvinas)          United Kingdom   \n253     Saint Pierre and Miquelon                  France   \n254                           NaN             South Sudan   \n255                           NaN          Western Sahara   \n256                           NaN   Sao Tome and Principe   \n257                           NaN                   Yemen   \n258                           NaN                 Comoros   \n259                           NaN              Tajikistan   \n260                           NaN                 Lesotho   \n261                           NaN             Afghanistan   \n262                           NaN                 Albania   \n263                           NaN                 Algeria   \n264                           NaN                 Andorra   \n265                           NaN                  Angola   \n266                           NaN     Antigua and Barbuda   \n267                           NaN               Argentina   \n268                           NaN                 Armenia   \n269  Australian Capital Territory               Australia   \n270               New South Wales               Australia   \n271            Northern Territory               Australia   \n272                    Queensland               Australia   \n273               South Australia               Australia   \n274                      Tasmania               Australia   \n275                      Victoria               Australia   \n276             Western Australia               Australia   \n277                           NaN                 Austria   \n278                           NaN              Azerbaijan   \n279                           NaN                 Bahamas   \n280                           NaN                 Bahrain   \n281                           NaN              Bangladesh   \n282                           NaN                Barbados   \n283                           NaN                 Belarus   \n284                           NaN                 Belgium   \n285                           NaN                   Benin   \n286                           NaN                  Bhutan   \n287                           NaN                 Bolivia   \n288                           NaN  Bosnia and Herzegovina   \n289                           NaN                  Brazil   \n290                           NaN                  Brunei   \n291                           NaN                Bulgaria   \n292                           NaN            Burkina Faso   \n293                           NaN              Cabo Verde   \n294                           NaN                Cambodia   \n295                           NaN                Cameroon   \n296                       Alberta                  Canada   \n297              British Columbia                  Canada   \n298                      Manitoba                  Canada   \n299                 New Brunswick                  Canada   \n\n                    Date  Confirmed  Deaths  Recovered  Active  \\\n250  2020-01-22 00:00:00          0       0          0       0   \n251  2020-01-22 00:00:00          0       0          0       0   \n252  2020-01-22 00:00:00          0       0          0       0   \n253  2020-01-22 00:00:00          0       0          0       0   \n254  2020-01-22 00:00:00          0       0          0       0   \n255  2020-01-22 00:00:00          0       0          0       0   \n256  2020-01-22 00:00:00          0       0          0       0   \n257  2020-01-22 00:00:00          0       0          0       0   \n258  2020-01-22 00:00:00          0       0          0       0   \n259  2020-01-22 00:00:00          0       0          0       0   \n260  2020-01-22 00:00:00          0       0          0       0   \n261  2020-01-23 00:00:00          0       0          0       0   \n262  2020-01-23 00:00:00          0       0          0       0   \n263  2020-01-23 00:00:00          0       0          0       0   \n264  2020-01-23 00:00:00          0       0          0       0   \n265  2020-01-23 00:00:00          0       0          0       0   \n266  2020-01-23 00:00:00          0       0          0       0   \n267  2020-01-23 00:00:00          0       0          0       0   \n268  2020-01-23 00:00:00          0       0          0       0   \n269  2020-01-23 00:00:00          0       0          0       0   \n270  2020-01-23 00:00:00          0       0          0       0   \n271  2020-01-23 00:00:00          0       0          0       0   \n272  2020-01-23 00:00:00          0       0          0       0   \n273  2020-01-23 00:00:00          0       0          0       0   \n274  2020-01-23 00:00:00          0       0          0       0   \n275  2020-01-23 00:00:00          0       0          0       0   \n276  2020-01-23 00:00:00          0       0          0       0   \n277  2020-01-23 00:00:00          0       0          0       0   \n278  2020-01-23 00:00:00          0       0          0       0   \n279  2020-01-23 00:00:00          0       0          0       0   \n280  2020-01-23 00:00:00          0       0          0       0   \n281  2020-01-23 00:00:00          0       0          0       0   \n282  2020-01-23 00:00:00          0       0          0       0   \n283  2020-01-23 00:00:00          0       0          0       0   \n284  2020-01-23 00:00:00          0       0          0       0   \n285  2020-01-23 00:00:00          0       0          0       0   \n286  2020-01-23 00:00:00          0       0          0       0   \n287  2020-01-23 00:00:00          0       0          0       0   \n288  2020-01-23 00:00:00          0       0          0       0   \n289  2020-01-23 00:00:00          0       0          0       0   \n290  2020-01-23 00:00:00          0       0          0       0   \n291  2020-01-23 00:00:00          0       0          0       0   \n292  2020-01-23 00:00:00          0       0          0       0   \n293  2020-01-23 00:00:00          0       0          0       0   \n294  2020-01-23 00:00:00          0       0          0       0   \n295  2020-01-23 00:00:00          0       0          0       0   \n296  2020-01-23 00:00:00          0       0          0       0   \n297  2020-01-23 00:00:00          0       0          0       0   \n298  2020-01-23 00:00:00          0       0          0       0   \n299  2020-01-23 00:00:00          0       0          0       0   \n\n                WHO Region   DateOnly  \n250                 Africa 2020-01-22  \n251                 Africa 2020-01-22  \n252                 Europe 2020-01-22  \n253                 Europe 2020-01-22  \n254                 Africa 2020-01-22  \n255                 Africa 2020-01-22  \n256                 Africa 2020-01-22  \n257  Eastern Mediterranean 2020-01-22  \n258                 Africa 2020-01-22  \n259                 Europe 2020-01-22  \n260                 Africa 2020-01-22  \n261  Eastern Mediterranean 2020-01-23  \n262                 Europe 2020-01-23  \n263                 Africa 2020-01-23  \n264                 Europe 2020-01-23  \n265                 Africa 2020-01-23  \n266               Americas 2020-01-23  \n267               Americas 2020-01-23  \n268                 Europe 2020-01-23  \n269        Western Pacific 2020-01-23  \n270        Western Pacific 2020-01-23  \n271        Western Pacific 2020-01-23  \n272        Western Pacific 2020-01-23  \n273        Western Pacific 2020-01-23  \n274        Western Pacific 2020-01-23  \n275        Western Pacific 2020-01-23  \n276        Western Pacific 2020-01-23  \n277                 Europe 2020-01-23  \n278                 Europe 2020-01-23  \n279               Americas 2020-01-23  \n280  Eastern Mediterranean 2020-01-23  \n281        South-East Asia 2020-01-23  \n282               Americas 2020-01-23  \n283                 Europe 2020-01-23  \n284                 Europe 2020-01-23  \n285                 Africa 2020-01-23  \n286        South-East Asia 2020-01-23  \n287               Americas 2020-01-23  \n288                 Europe 2020-01-23  \n289               Americas 2020-01-23  \n290        Western Pacific 2020-01-23  \n291                 Europe 2020-01-23  \n292                 Africa 2020-01-23  \n293                 Africa 2020-01-23  \n294        Western Pacific 2020-01-23  \n295                 Africa 2020-01-23  \n296               Americas 2020-01-23  \n297               Americas 2020-01-23  \n298               Americas 2020-01-23  \n299               Americas 2020-01-23  "
                    },
                    "execution_count": 18,
                    "metadata": {},
                    "output_type": "execute_result"
                }
            ],
            "source": "## Display 20 row of data\ndf_data_1[250:300]\n"
        },
        {
            "cell_type": "code",
            "execution_count": 19,
            "metadata": {},
            "outputs": [
                {
                    "data": {
                        "text/html": "<div>\n<style scoped>\n    .dataframe tbody tr th:only-of-type {\n        vertical-align: middle;\n    }\n\n    .dataframe tbody tr th {\n        vertical-align: top;\n    }\n\n    .dataframe thead tr th {\n        text-align: left;\n    }\n</style>\n<table border=\"1\" class=\"dataframe\">\n  <thead>\n    <tr>\n      <th></th>\n      <th>Country/Region</th>\n      <th>Confirmed</th>\n      <th>Deaths</th>\n      <th>Recovered</th>\n      <th>Active</th>\n    </tr>\n    <tr>\n      <th></th>\n      <th></th>\n      <th>sum</th>\n      <th>sum</th>\n      <th>sum</th>\n      <th>sum</th>\n    </tr>\n  </thead>\n  <tbody>\n    <tr>\n      <th>0</th>\n      <td>Afghanistan</td>\n      <td>1936390</td>\n      <td>49098</td>\n      <td>798240</td>\n      <td>1089052</td>\n    </tr>\n    <tr>\n      <th>1</th>\n      <td>Albania</td>\n      <td>196702</td>\n      <td>5708</td>\n      <td>118877</td>\n      <td>72117</td>\n    </tr>\n    <tr>\n      <th>2</th>\n      <td>Algeria</td>\n      <td>1179755</td>\n      <td>77972</td>\n      <td>755897</td>\n      <td>345886</td>\n    </tr>\n    <tr>\n      <th>3</th>\n      <td>Andorra</td>\n      <td>94404</td>\n      <td>5423</td>\n      <td>69074</td>\n      <td>19907</td>\n    </tr>\n    <tr>\n      <th>4</th>\n      <td>Angola</td>\n      <td>22662</td>\n      <td>1078</td>\n      <td>6573</td>\n      <td>15011</td>\n    </tr>\n    <tr>\n      <th>...</th>\n      <td>...</td>\n      <td>...</td>\n      <td>...</td>\n      <td>...</td>\n      <td>...</td>\n    </tr>\n    <tr>\n      <th>182</th>\n      <td>West Bank and Gaza</td>\n      <td>233461</td>\n      <td>1370</td>\n      <td>61124</td>\n      <td>170967</td>\n    </tr>\n    <tr>\n      <th>183</th>\n      <td>Western Sahara</td>\n      <td>901</td>\n      <td>63</td>\n      <td>648</td>\n      <td>190</td>\n    </tr>\n    <tr>\n      <th>184</th>\n      <td>Yemen</td>\n      <td>67180</td>\n      <td>17707</td>\n      <td>23779</td>\n      <td>25694</td>\n    </tr>\n    <tr>\n      <th>185</th>\n      <td>Zambia</td>\n      <td>129421</td>\n      <td>2643</td>\n      <td>83611</td>\n      <td>43167</td>\n    </tr>\n    <tr>\n      <th>186</th>\n      <td>Zimbabwe</td>\n      <td>50794</td>\n      <td>881</td>\n      <td>12207</td>\n      <td>37706</td>\n    </tr>\n  </tbody>\n</table>\n<p>187 rows \u00d7 5 columns</p>\n</div>",
                        "text/plain": "         Country/Region Confirmed Deaths Recovered   Active\n                              sum    sum       sum      sum\n0           Afghanistan   1936390  49098    798240  1089052\n1               Albania    196702   5708    118877    72117\n2               Algeria   1179755  77972    755897   345886\n3               Andorra     94404   5423     69074    19907\n4                Angola     22662   1078      6573    15011\n..                  ...       ...    ...       ...      ...\n182  West Bank and Gaza    233461   1370     61124   170967\n183      Western Sahara       901     63       648      190\n184               Yemen     67180  17707     23779    25694\n185              Zambia    129421   2643     83611    43167\n186            Zimbabwe     50794    881     12207    37706\n\n[187 rows x 5 columns]"
                    },
                    "execution_count": 19,
                    "metadata": {},
                    "output_type": "execute_result"
                }
            ],
            "source": "#Group and Country\nGroupCountry_df = df_data_1.groupby(['Country/Region']).agg({'Confirmed':['sum'],'Deaths':['sum'],'Recovered':['sum'],'Active':['sum']}).reset_index()\nGroupCountry_df = GroupCountry_df[GroupCountry_df['Country/Region']!= 0].reset_index(drop=True)\nGroupCountry_df"
        },
        {
            "cell_type": "markdown",
            "metadata": {},
            "source": "## Q1 What are the top 5 countries with the highest number of confirmed cases (to date)"
        },
        {
            "cell_type": "code",
            "execution_count": 20,
            "metadata": {},
            "outputs": [
                {
                    "data": {
                        "text/html": "<div>\n<style scoped>\n    .dataframe tbody tr th:only-of-type {\n        vertical-align: middle;\n    }\n\n    .dataframe tbody tr th {\n        vertical-align: top;\n    }\n\n    .dataframe thead tr th {\n        text-align: left;\n    }\n</style>\n<table border=\"1\" class=\"dataframe\">\n  <thead>\n    <tr>\n      <th></th>\n      <th>Country/Region</th>\n      <th>Confirmed</th>\n      <th>Deaths</th>\n      <th>Recovered</th>\n      <th>Active</th>\n    </tr>\n    <tr>\n      <th></th>\n      <th></th>\n      <th>sum</th>\n      <th>sum</th>\n      <th>sum</th>\n      <th>sum</th>\n    </tr>\n  </thead>\n  <tbody>\n    <tr>\n      <th>173</th>\n      <td>US</td>\n      <td>224345948</td>\n      <td>11011411</td>\n      <td>56353416</td>\n      <td>156981121</td>\n    </tr>\n    <tr>\n      <th>23</th>\n      <td>Brazil</td>\n      <td>89524967</td>\n      <td>3938034</td>\n      <td>54492873</td>\n      <td>31094060</td>\n    </tr>\n    <tr>\n      <th>138</th>\n      <td>Russia</td>\n      <td>45408411</td>\n      <td>619385</td>\n      <td>25120448</td>\n      <td>19668578</td>\n    </tr>\n    <tr>\n      <th>79</th>\n      <td>India</td>\n      <td>40883464</td>\n      <td>1111831</td>\n      <td>23783720</td>\n      <td>15987913</td>\n    </tr>\n    <tr>\n      <th>157</th>\n      <td>Spain</td>\n      <td>27404045</td>\n      <td>3033030</td>\n      <td>15093583</td>\n      <td>9277432</td>\n    </tr>\n  </tbody>\n</table>\n</div>",
                        "text/plain": "    Country/Region  Confirmed    Deaths Recovered     Active\n                          sum       sum       sum        sum\n173             US  224345948  11011411  56353416  156981121\n23          Brazil   89524967   3938034  54492873   31094060\n138         Russia   45408411    619385  25120448   19668578\n79           India   40883464   1111831  23783720   15987913\n157          Spain   27404045   3033030  15093583    9277432"
                    },
                    "execution_count": 20,
                    "metadata": {},
                    "output_type": "execute_result"
                }
            ],
            "source": "GroupCountry_df.sort_values(by=[('Confirmed','sum')],ascending=False).head(5)"
        },
        {
            "cell_type": "markdown",
            "metadata": {},
            "source": "## Q2 What are the top 5 countries with the best recovery rates"
        },
        {
            "cell_type": "code",
            "execution_count": 21,
            "metadata": {},
            "outputs": [
                {
                    "data": {
                        "text/html": "<div>\n<style scoped>\n    .dataframe tbody tr th:only-of-type {\n        vertical-align: middle;\n    }\n\n    .dataframe tbody tr th {\n        vertical-align: top;\n    }\n\n    .dataframe thead tr th {\n        text-align: left;\n    }\n</style>\n<table border=\"1\" class=\"dataframe\">\n  <thead>\n    <tr>\n      <th></th>\n      <th>Country/Region</th>\n      <th>Confirmed</th>\n      <th>Deaths</th>\n      <th>Recovered</th>\n      <th>Active</th>\n      <th>recovery rate</th>\n    </tr>\n    <tr>\n      <th></th>\n      <th></th>\n      <th>sum</th>\n      <th>sum</th>\n      <th>sum</th>\n      <th>sum</th>\n      <th>per confirm</th>\n    </tr>\n  </thead>\n  <tbody>\n    <tr>\n      <th>0</th>\n      <td>Afghanistan</td>\n      <td>1936390</td>\n      <td>49098</td>\n      <td>798240</td>\n      <td>1089052</td>\n      <td>0.412231</td>\n    </tr>\n    <tr>\n      <th>1</th>\n      <td>Albania</td>\n      <td>196702</td>\n      <td>5708</td>\n      <td>118877</td>\n      <td>72117</td>\n      <td>0.604351</td>\n    </tr>\n    <tr>\n      <th>2</th>\n      <td>Algeria</td>\n      <td>1179755</td>\n      <td>77972</td>\n      <td>755897</td>\n      <td>345886</td>\n      <td>0.640724</td>\n    </tr>\n    <tr>\n      <th>3</th>\n      <td>Andorra</td>\n      <td>94404</td>\n      <td>5423</td>\n      <td>69074</td>\n      <td>19907</td>\n      <td>0.731685</td>\n    </tr>\n    <tr>\n      <th>4</th>\n      <td>Angola</td>\n      <td>22662</td>\n      <td>1078</td>\n      <td>6573</td>\n      <td>15011</td>\n      <td>0.290045</td>\n    </tr>\n    <tr>\n      <th>...</th>\n      <td>...</td>\n      <td>...</td>\n      <td>...</td>\n      <td>...</td>\n      <td>...</td>\n      <td>...</td>\n    </tr>\n    <tr>\n      <th>182</th>\n      <td>West Bank and Gaza</td>\n      <td>233461</td>\n      <td>1370</td>\n      <td>61124</td>\n      <td>170967</td>\n      <td>0.261817</td>\n    </tr>\n    <tr>\n      <th>183</th>\n      <td>Western Sahara</td>\n      <td>901</td>\n      <td>63</td>\n      <td>648</td>\n      <td>190</td>\n      <td>0.719201</td>\n    </tr>\n    <tr>\n      <th>184</th>\n      <td>Yemen</td>\n      <td>67180</td>\n      <td>17707</td>\n      <td>23779</td>\n      <td>25694</td>\n      <td>0.353960</td>\n    </tr>\n    <tr>\n      <th>185</th>\n      <td>Zambia</td>\n      <td>129421</td>\n      <td>2643</td>\n      <td>83611</td>\n      <td>43167</td>\n      <td>0.646039</td>\n    </tr>\n    <tr>\n      <th>186</th>\n      <td>Zimbabwe</td>\n      <td>50794</td>\n      <td>881</td>\n      <td>12207</td>\n      <td>37706</td>\n      <td>0.240324</td>\n    </tr>\n  </tbody>\n</table>\n<p>187 rows \u00d7 6 columns</p>\n</div>",
                        "text/plain": "         Country/Region Confirmed Deaths Recovered   Active recovery rate\n                              sum    sum       sum      sum   per confirm\n0           Afghanistan   1936390  49098    798240  1089052      0.412231\n1               Albania    196702   5708    118877    72117      0.604351\n2               Algeria   1179755  77972    755897   345886      0.640724\n3               Andorra     94404   5423     69074    19907      0.731685\n4                Angola     22662   1078      6573    15011      0.290045\n..                  ...       ...    ...       ...      ...           ...\n182  West Bank and Gaza    233461   1370     61124   170967      0.261817\n183      Western Sahara       901     63       648      190      0.719201\n184               Yemen     67180  17707     23779    25694      0.353960\n185              Zambia    129421   2643     83611    43167      0.646039\n186            Zimbabwe     50794    881     12207    37706      0.240324\n\n[187 rows x 6 columns]"
                    },
                    "execution_count": 21,
                    "metadata": {},
                    "output_type": "execute_result"
                }
            ],
            "source": "GroupCountry_df[('recovery rate','per confirm')] = GroupCountry_df[('Recovered','sum')]/GroupCountry_df[('Confirmed','sum')]\nGroupCountry_df"
        },
        {
            "cell_type": "code",
            "execution_count": 22,
            "metadata": {},
            "outputs": [
                {
                    "data": {
                        "text/html": "<div>\n<style scoped>\n    .dataframe tbody tr th:only-of-type {\n        vertical-align: middle;\n    }\n\n    .dataframe tbody tr th {\n        vertical-align: top;\n    }\n\n    .dataframe thead tr th {\n        text-align: left;\n    }\n</style>\n<table border=\"1\" class=\"dataframe\">\n  <thead>\n    <tr>\n      <th></th>\n      <th>Country/Region</th>\n      <th>Confirmed</th>\n      <th>Deaths</th>\n      <th>Recovered</th>\n      <th>Active</th>\n      <th>recovery rate</th>\n    </tr>\n    <tr>\n      <th></th>\n      <th></th>\n      <th>sum</th>\n      <th>sum</th>\n      <th>sum</th>\n      <th>sum</th>\n      <th>per confirm</th>\n    </tr>\n  </thead>\n  <tbody>\n    <tr>\n      <th>100</th>\n      <td>Liechtenstein</td>\n      <td>10269</td>\n      <td>114</td>\n      <td>9396</td>\n      <td>759</td>\n      <td>0.914987</td>\n    </tr>\n    <tr>\n      <th>68</th>\n      <td>Greenland</td>\n      <td>1507</td>\n      <td>0</td>\n      <td>1372</td>\n      <td>135</td>\n      <td>0.910418</td>\n    </tr>\n    <tr>\n      <th>78</th>\n      <td>Iceland</td>\n      <td>221241</td>\n      <td>1141</td>\n      <td>190132</td>\n      <td>29968</td>\n      <td>0.859389</td>\n    </tr>\n    <tr>\n      <th>167</th>\n      <td>Thailand</td>\n      <td>366527</td>\n      <td>6289</td>\n      <td>312360</td>\n      <td>47878</td>\n      <td>0.852216</td>\n    </tr>\n    <tr>\n      <th>121</th>\n      <td>New Zealand</td>\n      <td>175979</td>\n      <td>2181</td>\n      <td>149560</td>\n      <td>24238</td>\n      <td>0.849874</td>\n    </tr>\n  </tbody>\n</table>\n</div>",
                        "text/plain": "    Country/Region Confirmed Deaths Recovered Active recovery rate\n                         sum    sum       sum    sum   per confirm\n100  Liechtenstein     10269    114      9396    759      0.914987\n68       Greenland      1507      0      1372    135      0.910418\n78         Iceland    221241   1141    190132  29968      0.859389\n167       Thailand    366527   6289    312360  47878      0.852216\n121    New Zealand    175979   2181    149560  24238      0.849874"
                    },
                    "execution_count": 22,
                    "metadata": {},
                    "output_type": "execute_result"
                }
            ],
            "source": "GroupCountry_df.sort_values(by=[('recovery rate','per confirm')],ascending=False).head(5)"
        },
        {
            "cell_type": "markdown",
            "metadata": {},
            "source": "## Q3 Which WHO region had the highest rate of increase in cases in the months period\n"
        },
        {
            "cell_type": "code",
            "execution_count": 23,
            "metadata": {},
            "outputs": [
                {
                    "data": {
                        "text/html": "<div>\n<style scoped>\n    .dataframe tbody tr th:only-of-type {\n        vertical-align: middle;\n    }\n\n    .dataframe tbody tr th {\n        vertical-align: top;\n    }\n\n    .dataframe thead th {\n        text-align: right;\n    }\n</style>\n<table border=\"1\" class=\"dataframe\">\n  <thead>\n    <tr style=\"text-align: right;\">\n      <th></th>\n      <th>Province/State</th>\n      <th>Country/Region</th>\n      <th>Date</th>\n      <th>Confirmed</th>\n      <th>Deaths</th>\n      <th>Recovered</th>\n      <th>Active</th>\n      <th>WHO Region</th>\n      <th>DateOnly</th>\n      <th>YearMonth</th>\n    </tr>\n  </thead>\n  <tbody>\n    <tr>\n      <th>0</th>\n      <td>NaN</td>\n      <td>Afghanistan</td>\n      <td>2020-01-22 00:00:00</td>\n      <td>0</td>\n      <td>0</td>\n      <td>0</td>\n      <td>0</td>\n      <td>Eastern Mediterranean</td>\n      <td>2020-01-22</td>\n      <td>2020-01</td>\n    </tr>\n    <tr>\n      <th>1</th>\n      <td>NaN</td>\n      <td>Albania</td>\n      <td>2020-01-22 00:00:00</td>\n      <td>0</td>\n      <td>0</td>\n      <td>0</td>\n      <td>0</td>\n      <td>Europe</td>\n      <td>2020-01-22</td>\n      <td>2020-01</td>\n    </tr>\n    <tr>\n      <th>2</th>\n      <td>NaN</td>\n      <td>Algeria</td>\n      <td>2020-01-22 00:00:00</td>\n      <td>0</td>\n      <td>0</td>\n      <td>0</td>\n      <td>0</td>\n      <td>Africa</td>\n      <td>2020-01-22</td>\n      <td>2020-01</td>\n    </tr>\n    <tr>\n      <th>3</th>\n      <td>NaN</td>\n      <td>Andorra</td>\n      <td>2020-01-22 00:00:00</td>\n      <td>0</td>\n      <td>0</td>\n      <td>0</td>\n      <td>0</td>\n      <td>Europe</td>\n      <td>2020-01-22</td>\n      <td>2020-01</td>\n    </tr>\n    <tr>\n      <th>4</th>\n      <td>NaN</td>\n      <td>Angola</td>\n      <td>2020-01-22 00:00:00</td>\n      <td>0</td>\n      <td>0</td>\n      <td>0</td>\n      <td>0</td>\n      <td>Africa</td>\n      <td>2020-01-22</td>\n      <td>2020-01</td>\n    </tr>\n    <tr>\n      <th>...</th>\n      <td>...</td>\n      <td>...</td>\n      <td>...</td>\n      <td>...</td>\n      <td>...</td>\n      <td>...</td>\n      <td>...</td>\n      <td>...</td>\n      <td>...</td>\n      <td>...</td>\n    </tr>\n    <tr>\n      <th>49063</th>\n      <td>NaN</td>\n      <td>Sao Tome and Principe</td>\n      <td>2020-07-27 00:00:00</td>\n      <td>865</td>\n      <td>14</td>\n      <td>734</td>\n      <td>117</td>\n      <td>Africa</td>\n      <td>2020-07-27</td>\n      <td>2020-07</td>\n    </tr>\n    <tr>\n      <th>49064</th>\n      <td>NaN</td>\n      <td>Yemen</td>\n      <td>2020-07-27 00:00:00</td>\n      <td>1691</td>\n      <td>483</td>\n      <td>833</td>\n      <td>375</td>\n      <td>Eastern Mediterranean</td>\n      <td>2020-07-27</td>\n      <td>2020-07</td>\n    </tr>\n    <tr>\n      <th>49065</th>\n      <td>NaN</td>\n      <td>Comoros</td>\n      <td>2020-07-27 00:00:00</td>\n      <td>354</td>\n      <td>7</td>\n      <td>328</td>\n      <td>19</td>\n      <td>Africa</td>\n      <td>2020-07-27</td>\n      <td>2020-07</td>\n    </tr>\n    <tr>\n      <th>49066</th>\n      <td>NaN</td>\n      <td>Tajikistan</td>\n      <td>2020-07-27 00:00:00</td>\n      <td>7235</td>\n      <td>60</td>\n      <td>6028</td>\n      <td>1147</td>\n      <td>Europe</td>\n      <td>2020-07-27</td>\n      <td>2020-07</td>\n    </tr>\n    <tr>\n      <th>49067</th>\n      <td>NaN</td>\n      <td>Lesotho</td>\n      <td>2020-07-27 00:00:00</td>\n      <td>505</td>\n      <td>12</td>\n      <td>128</td>\n      <td>365</td>\n      <td>Africa</td>\n      <td>2020-07-27</td>\n      <td>2020-07</td>\n    </tr>\n  </tbody>\n</table>\n<p>49068 rows \u00d7 10 columns</p>\n</div>",
                        "text/plain": "      Province/State         Country/Region                 Date  Confirmed  \\\n0                NaN            Afghanistan  2020-01-22 00:00:00          0   \n1                NaN                Albania  2020-01-22 00:00:00          0   \n2                NaN                Algeria  2020-01-22 00:00:00          0   \n3                NaN                Andorra  2020-01-22 00:00:00          0   \n4                NaN                 Angola  2020-01-22 00:00:00          0   \n...              ...                    ...                  ...        ...   \n49063            NaN  Sao Tome and Principe  2020-07-27 00:00:00        865   \n49064            NaN                  Yemen  2020-07-27 00:00:00       1691   \n49065            NaN                Comoros  2020-07-27 00:00:00        354   \n49066            NaN             Tajikistan  2020-07-27 00:00:00       7235   \n49067            NaN                Lesotho  2020-07-27 00:00:00        505   \n\n       Deaths  Recovered  Active             WHO Region   DateOnly YearMonth  \n0           0          0       0  Eastern Mediterranean 2020-01-22   2020-01  \n1           0          0       0                 Europe 2020-01-22   2020-01  \n2           0          0       0                 Africa 2020-01-22   2020-01  \n3           0          0       0                 Europe 2020-01-22   2020-01  \n4           0          0       0                 Africa 2020-01-22   2020-01  \n...       ...        ...     ...                    ...        ...       ...  \n49063      14        734     117                 Africa 2020-07-27   2020-07  \n49064     483        833     375  Eastern Mediterranean 2020-07-27   2020-07  \n49065       7        328      19                 Africa 2020-07-27   2020-07  \n49066      60       6028    1147                 Europe 2020-07-27   2020-07  \n49067      12        128     365                 Africa 2020-07-27   2020-07  \n\n[49068 rows x 10 columns]"
                    },
                    "execution_count": 23,
                    "metadata": {},
                    "output_type": "execute_result"
                }
            ],
            "source": "df_data_2 = df_data_1\n\ndf_data_2['YearMonth'] = pd.to_datetime(df_data_2['DateOnly'],format='%m%Y', errors='coerce').dt.to_period('m')\ndf_data_2"
        },
        {
            "cell_type": "code",
            "execution_count": 24,
            "metadata": {},
            "outputs": [
                {
                    "data": {
                        "text/html": "<div>\n<style scoped>\n    .dataframe tbody tr th:only-of-type {\n        vertical-align: middle;\n    }\n\n    .dataframe tbody tr th {\n        vertical-align: top;\n    }\n\n    .dataframe thead tr th {\n        text-align: left;\n    }\n</style>\n<table border=\"1\" class=\"dataframe\">\n  <thead>\n    <tr>\n      <th></th>\n      <th>YearMonth</th>\n      <th>WHO Region</th>\n      <th>Confirmed</th>\n      <th>Deaths</th>\n      <th>Recovered</th>\n      <th>Active</th>\n    </tr>\n    <tr>\n      <th></th>\n      <th></th>\n      <th></th>\n      <th>sum</th>\n      <th>sum</th>\n      <th>sum</th>\n      <th>sum</th>\n    </tr>\n  </thead>\n  <tbody>\n    <tr>\n      <th>0</th>\n      <td>2020-01</td>\n      <td>Africa</td>\n      <td>0</td>\n      <td>0</td>\n      <td>0</td>\n      <td>0</td>\n    </tr>\n    <tr>\n      <th>1</th>\n      <td>2020-01</td>\n      <td>Americas</td>\n      <td>50</td>\n      <td>0</td>\n      <td>0</td>\n      <td>50</td>\n    </tr>\n    <tr>\n      <th>2</th>\n      <td>2020-01</td>\n      <td>Eastern Mediterranean</td>\n      <td>12</td>\n      <td>0</td>\n      <td>0</td>\n      <td>12</td>\n    </tr>\n    <tr>\n      <th>3</th>\n      <td>2020-01</td>\n      <td>Europe</td>\n      <td>58</td>\n      <td>0</td>\n      <td>0</td>\n      <td>58</td>\n    </tr>\n    <tr>\n      <th>4</th>\n      <td>2020-01</td>\n      <td>South-East Asia</td>\n      <td>108</td>\n      <td>0</td>\n      <td>24</td>\n      <td>84</td>\n    </tr>\n    <tr>\n      <th>5</th>\n      <td>2020-01</td>\n      <td>Western Pacific</td>\n      <td>38306</td>\n      <td>889</td>\n      <td>814</td>\n      <td>36603</td>\n    </tr>\n    <tr>\n      <th>6</th>\n      <td>2020-02</td>\n      <td>Africa</td>\n      <td>7</td>\n      <td>0</td>\n      <td>0</td>\n      <td>7</td>\n    </tr>\n    <tr>\n      <th>7</th>\n      <td>2020-02</td>\n      <td>Americas</td>\n      <td>636</td>\n      <td>1</td>\n      <td>88</td>\n      <td>547</td>\n    </tr>\n    <tr>\n      <th>8</th>\n      <td>2020-02</td>\n      <td>Eastern Mediterranean</td>\n      <td>2331</td>\n      <td>171</td>\n      <td>361</td>\n      <td>1799</td>\n    </tr>\n    <tr>\n      <th>9</th>\n      <td>2020-02</td>\n      <td>Europe</td>\n      <td>6094</td>\n      <td>121</td>\n      <td>637</td>\n      <td>5336</td>\n    </tr>\n    <tr>\n      <th>10</th>\n      <td>2020-02</td>\n      <td>South-East Asia</td>\n      <td>1074</td>\n      <td>0</td>\n      <td>475</td>\n      <td>599</td>\n    </tr>\n    <tr>\n      <th>11</th>\n      <td>2020-02</td>\n      <td>Western Pacific</td>\n      <td>1653295</td>\n      <td>46582</td>\n      <td>362108</td>\n      <td>1244605</td>\n    </tr>\n    <tr>\n      <th>12</th>\n      <td>2020-03</td>\n      <td>Africa</td>\n      <td>27698</td>\n      <td>640</td>\n      <td>1344</td>\n      <td>25714</td>\n    </tr>\n    <tr>\n      <th>13</th>\n      <td>2020-03</td>\n      <td>Americas</td>\n      <td>1270327</td>\n      <td>29219</td>\n      <td>22885</td>\n      <td>1218223</td>\n    </tr>\n    <tr>\n      <th>14</th>\n      <td>2020-03</td>\n      <td>Eastern Mediterranean</td>\n      <td>615503</td>\n      <td>35761</td>\n      <td>182437</td>\n      <td>397305</td>\n    </tr>\n    <tr>\n      <th>15</th>\n      <td>2020-03</td>\n      <td>Europe</td>\n      <td>4162474</td>\n      <td>227448</td>\n      <td>402401</td>\n      <td>3532625</td>\n    </tr>\n    <tr>\n      <th>16</th>\n      <td>2020-03</td>\n      <td>South-East Asia</td>\n      <td>38176</td>\n      <td>1343</td>\n      <td>3617</td>\n      <td>33216</td>\n    </tr>\n    <tr>\n      <th>17</th>\n      <td>2020-03</td>\n      <td>Western Pacific</td>\n      <td>2887293</td>\n      <td>103142</td>\n      <td>2030344</td>\n      <td>753807</td>\n    </tr>\n    <tr>\n      <th>18</th>\n      <td>2020-04</td>\n      <td>Africa</td>\n      <td>386817</td>\n      <td>16937</td>\n      <td>107593</td>\n      <td>262287</td>\n    </tr>\n    <tr>\n      <th>19</th>\n      <td>2020-04</td>\n      <td>Americas</td>\n      <td>23315153</td>\n      <td>1210168</td>\n      <td>2594600</td>\n      <td>19510385</td>\n    </tr>\n    <tr>\n      <th>20</th>\n      <td>2020-04</td>\n      <td>Eastern Mediterranean</td>\n      <td>3543378</td>\n      <td>165929</td>\n      <td>1686613</td>\n      <td>1690836</td>\n    </tr>\n    <tr>\n      <th>21</th>\n      <td>2020-04</td>\n      <td>Europe</td>\n      <td>31537286</td>\n      <td>2739349</td>\n      <td>8613224</td>\n      <td>20184713</td>\n    </tr>\n    <tr>\n      <th>22</th>\n      <td>2020-04</td>\n      <td>South-East Asia</td>\n      <td>775328</td>\n      <td>32124</td>\n      <td>157455</td>\n      <td>585749</td>\n    </tr>\n    <tr>\n      <th>23</th>\n      <td>2020-04</td>\n      <td>Western Pacific</td>\n      <td>3833532</td>\n      <td>146701</td>\n      <td>2784367</td>\n      <td>902464</td>\n    </tr>\n    <tr>\n      <th>24</th>\n      <td>2020-05</td>\n      <td>Africa</td>\n      <td>1838278</td>\n      <td>53596</td>\n      <td>736291</td>\n      <td>1048391</td>\n    </tr>\n    <tr>\n      <th>25</th>\n      <td>2020-05</td>\n      <td>Americas</td>\n      <td>64909484</td>\n      <td>3820771</td>\n      <td>15557036</td>\n      <td>45531677</td>\n    </tr>\n    <tr>\n      <th>26</th>\n      <td>2020-05</td>\n      <td>Eastern Mediterranean</td>\n      <td>10469755</td>\n      <td>308441</td>\n      <td>5384754</td>\n      <td>4776560</td>\n    </tr>\n    <tr>\n      <th>27</th>\n      <td>2020-05</td>\n      <td>Europe</td>\n      <td>58054543</td>\n      <td>5076176</td>\n      <td>25803782</td>\n      <td>27174585</td>\n    </tr>\n    <tr>\n      <th>28</th>\n      <td>2020-05</td>\n      <td>South-East Asia</td>\n      <td>4544932</td>\n      <td>143020</td>\n      <td>1592077</td>\n      <td>2809835</td>\n    </tr>\n    <tr>\n      <th>29</th>\n      <td>2020-05</td>\n      <td>Western Pacific</td>\n      <td>5170612</td>\n      <td>207375</td>\n      <td>3800296</td>\n      <td>1162941</td>\n    </tr>\n    <tr>\n      <th>30</th>\n      <td>2020-06</td>\n      <td>Africa</td>\n      <td>5721092</td>\n      <td>129564</td>\n      <td>2813665</td>\n      <td>2777863</td>\n    </tr>\n    <tr>\n      <th>31</th>\n      <td>2020-06</td>\n      <td>Americas</td>\n      <td>121595501</td>\n      <td>6283820</td>\n      <td>47119759</td>\n      <td>68191922</td>\n    </tr>\n    <tr>\n      <th>32</th>\n      <td>2020-06</td>\n      <td>Eastern Mediterranean</td>\n      <td>24151498</td>\n      <td>547128</td>\n      <td>14671479</td>\n      <td>8932891</td>\n    </tr>\n    <tr>\n      <th>33</th>\n      <td>2020-06</td>\n      <td>Europe</td>\n      <td>73614211</td>\n      <td>5692736</td>\n      <td>40081923</td>\n      <td>27839552</td>\n    </tr>\n    <tr>\n      <th>34</th>\n      <td>2020-06</td>\n      <td>South-East Asia</td>\n      <td>15434791</td>\n      <td>438663</td>\n      <td>7538282</td>\n      <td>7457846</td>\n    </tr>\n    <tr>\n      <th>35</th>\n      <td>2020-06</td>\n      <td>Western Pacific</td>\n      <td>6007492</td>\n      <td>217049</td>\n      <td>4758023</td>\n      <td>1032420</td>\n    </tr>\n    <tr>\n      <th>36</th>\n      <td>2020-07</td>\n      <td>Africa</td>\n      <td>13816866</td>\n      <td>239241</td>\n      <td>7533766</td>\n      <td>6043859</td>\n    </tr>\n    <tr>\n      <th>37</th>\n      <td>2020-07</td>\n      <td>Americas</td>\n      <td>191170043</td>\n      <td>8015313</td>\n      <td>91775076</td>\n      <td>91379654</td>\n    </tr>\n    <tr>\n      <th>38</th>\n      <td>2020-07</td>\n      <td>Eastern Mediterranean</td>\n      <td>35300415</td>\n      <td>866599</td>\n      <td>26125059</td>\n      <td>8308757</td>\n    </tr>\n    <tr>\n      <th>39</th>\n      <td>2020-07</td>\n      <td>Europe</td>\n      <td>81501130</td>\n      <td>5534892</td>\n      <td>48296369</td>\n      <td>27669869</td>\n    </tr>\n    <tr>\n      <th>40</th>\n      <td>2020-07</td>\n      <td>South-East Asia</td>\n      <td>34323956</td>\n      <td>842984</td>\n      <td>20738397</td>\n      <td>12742575</td>\n    </tr>\n    <tr>\n      <th>41</th>\n      <td>2020-07</td>\n      <td>Western Pacific</td>\n      <td>6782369</td>\n      <td>210638</td>\n      <td>5124486</td>\n      <td>1447245</td>\n    </tr>\n  </tbody>\n</table>\n</div>",
                        "text/plain": "   YearMonth             WHO Region  Confirmed   Deaths Recovered    Active\n                                           sum      sum       sum       sum\n0    2020-01                 Africa          0        0         0         0\n1    2020-01               Americas         50        0         0        50\n2    2020-01  Eastern Mediterranean         12        0         0        12\n3    2020-01                 Europe         58        0         0        58\n4    2020-01        South-East Asia        108        0        24        84\n5    2020-01        Western Pacific      38306      889       814     36603\n6    2020-02                 Africa          7        0         0         7\n7    2020-02               Americas        636        1        88       547\n8    2020-02  Eastern Mediterranean       2331      171       361      1799\n9    2020-02                 Europe       6094      121       637      5336\n10   2020-02        South-East Asia       1074        0       475       599\n11   2020-02        Western Pacific    1653295    46582    362108   1244605\n12   2020-03                 Africa      27698      640      1344     25714\n13   2020-03               Americas    1270327    29219     22885   1218223\n14   2020-03  Eastern Mediterranean     615503    35761    182437    397305\n15   2020-03                 Europe    4162474   227448    402401   3532625\n16   2020-03        South-East Asia      38176     1343      3617     33216\n17   2020-03        Western Pacific    2887293   103142   2030344    753807\n18   2020-04                 Africa     386817    16937    107593    262287\n19   2020-04               Americas   23315153  1210168   2594600  19510385\n20   2020-04  Eastern Mediterranean    3543378   165929   1686613   1690836\n21   2020-04                 Europe   31537286  2739349   8613224  20184713\n22   2020-04        South-East Asia     775328    32124    157455    585749\n23   2020-04        Western Pacific    3833532   146701   2784367    902464\n24   2020-05                 Africa    1838278    53596    736291   1048391\n25   2020-05               Americas   64909484  3820771  15557036  45531677\n26   2020-05  Eastern Mediterranean   10469755   308441   5384754   4776560\n27   2020-05                 Europe   58054543  5076176  25803782  27174585\n28   2020-05        South-East Asia    4544932   143020   1592077   2809835\n29   2020-05        Western Pacific    5170612   207375   3800296   1162941\n30   2020-06                 Africa    5721092   129564   2813665   2777863\n31   2020-06               Americas  121595501  6283820  47119759  68191922\n32   2020-06  Eastern Mediterranean   24151498   547128  14671479   8932891\n33   2020-06                 Europe   73614211  5692736  40081923  27839552\n34   2020-06        South-East Asia   15434791   438663   7538282   7457846\n35   2020-06        Western Pacific    6007492   217049   4758023   1032420\n36   2020-07                 Africa   13816866   239241   7533766   6043859\n37   2020-07               Americas  191170043  8015313  91775076  91379654\n38   2020-07  Eastern Mediterranean   35300415   866599  26125059   8308757\n39   2020-07                 Europe   81501130  5534892  48296369  27669869\n40   2020-07        South-East Asia   34323956   842984  20738397  12742575\n41   2020-07        Western Pacific    6782369   210638   5124486   1447245"
                    },
                    "execution_count": 24,
                    "metadata": {},
                    "output_type": "execute_result"
                }
            ],
            "source": "GroupWHO_df = df_data_2.groupby(['YearMonth','WHO Region']).agg({'Confirmed':['sum'],'Deaths':['sum'],'Recovered':['sum'],'Active':['sum']}).reset_index()\n#GroupCountey_df = GroupCountey_df[GroupCountey_df['Country/Region']!= 0].reset_index(drop=True)\n\nGroupWHO_df"
        },
        {
            "cell_type": "code",
            "execution_count": 25,
            "metadata": {},
            "outputs": [],
            "source": "YearMonth_Loop = GroupWHO_df['YearMonth'].unique()\nWHORegion_Loop = GroupWHO_df['WHO Region'].unique()\n"
        },
        {
            "cell_type": "code",
            "execution_count": 26,
            "metadata": {},
            "outputs": [
                {
                    "name": "stderr",
                    "output_type": "stream",
                    "text": "/opt/conda/envs/Python-3.7-main/lib/python3.7/site-packages/pandas/core/generic.py:3936: PerformanceWarning: dropping on a non-lexsorted multi-index without a level parameter may impact performance.\n  obj = obj._drop_axis(labels, axis, level=level, errors=errors)\n"
                },
                {
                    "data": {
                        "text/html": "<div>\n<style scoped>\n    .dataframe tbody tr th:only-of-type {\n        vertical-align: middle;\n    }\n\n    .dataframe tbody tr th {\n        vertical-align: top;\n    }\n\n    .dataframe thead tr th {\n        text-align: left;\n    }\n\n    .dataframe thead tr:last-of-type th {\n        text-align: right;\n    }\n</style>\n<table border=\"1\" class=\"dataframe\">\n  <thead>\n    <tr>\n      <th></th>\n      <th colspan=\"7\" halign=\"left\">sum</th>\n    </tr>\n    <tr>\n      <th>YearMonth</th>\n      <th>2020-01</th>\n      <th>2020-02</th>\n      <th>2020-03</th>\n      <th>2020-04</th>\n      <th>2020-05</th>\n      <th>2020-06</th>\n      <th>2020-07</th>\n    </tr>\n    <tr>\n      <th>WHO Region</th>\n      <th></th>\n      <th></th>\n      <th></th>\n      <th></th>\n      <th></th>\n      <th></th>\n      <th></th>\n    </tr>\n  </thead>\n  <tbody>\n    <tr>\n      <th>Africa</th>\n      <td>0</td>\n      <td>7</td>\n      <td>27698</td>\n      <td>386817</td>\n      <td>1838278</td>\n      <td>5721092</td>\n      <td>13816866</td>\n    </tr>\n    <tr>\n      <th>Americas</th>\n      <td>50</td>\n      <td>636</td>\n      <td>1270327</td>\n      <td>23315153</td>\n      <td>64909484</td>\n      <td>121595501</td>\n      <td>191170043</td>\n    </tr>\n    <tr>\n      <th>Eastern Mediterranean</th>\n      <td>12</td>\n      <td>2331</td>\n      <td>615503</td>\n      <td>3543378</td>\n      <td>10469755</td>\n      <td>24151498</td>\n      <td>35300415</td>\n    </tr>\n    <tr>\n      <th>Europe</th>\n      <td>58</td>\n      <td>6094</td>\n      <td>4162474</td>\n      <td>31537286</td>\n      <td>58054543</td>\n      <td>73614211</td>\n      <td>81501130</td>\n    </tr>\n    <tr>\n      <th>South-East Asia</th>\n      <td>108</td>\n      <td>1074</td>\n      <td>38176</td>\n      <td>775328</td>\n      <td>4544932</td>\n      <td>15434791</td>\n      <td>34323956</td>\n    </tr>\n    <tr>\n      <th>Western Pacific</th>\n      <td>38306</td>\n      <td>1653295</td>\n      <td>2887293</td>\n      <td>3833532</td>\n      <td>5170612</td>\n      <td>6007492</td>\n      <td>6782369</td>\n    </tr>\n  </tbody>\n</table>\n</div>",
                        "text/plain": "                          sum                                        \\\nYearMonth             2020-01  2020-02  2020-03   2020-04   2020-05   \nWHO Region                                                            \nAfrica                      0        7    27698    386817   1838278   \nAmericas                   50      636  1270327  23315153  64909484   \nEastern Mediterranean      12     2331   615503   3543378  10469755   \nEurope                     58     6094  4162474  31537286  58054543   \nSouth-East Asia           108     1074    38176    775328   4544932   \nWestern Pacific         38306  1653295  2887293   3833532   5170612   \n\n                                             \nYearMonth                2020-06    2020-07  \nWHO Region                                   \nAfrica                   5721092   13816866  \nAmericas               121595501  191170043  \nEastern Mediterranean   24151498   35300415  \nEurope                  73614211   81501130  \nSouth-East Asia         15434791   34323956  \nWestern Pacific          6007492    6782369  "
                    },
                    "execution_count": 26,
                    "metadata": {},
                    "output_type": "execute_result"
                }
            ],
            "source": "##PivotTable_df = pd.DataFrame(columns=[],index=WHORegion_Loop)\nGroupWHO_df_drop = GroupWHO_df[['WHO Region','YearMonth']]\nPivotTable_df = pd.pivot_table(GroupWHO_df,values='Confirmed',index='WHO Region',columns='YearMonth')\nPivotTable_df"
        },
        {
            "cell_type": "code",
            "execution_count": 27,
            "metadata": {},
            "outputs": [
                {
                    "data": {
                        "text/plain": "(6, 7)"
                    },
                    "execution_count": 27,
                    "metadata": {},
                    "output_type": "execute_result"
                }
            ],
            "source": "#(0,6) (0,5) (0,4) loop\n#PivotTable_df.shape[0] is row     6\n#PivotTable_df.shape[1] is column  7  \nPivotTable_df.shape"
        },
        {
            "cell_type": "code",
            "execution_count": 28,
            "metadata": {},
            "outputs": [],
            "source": "#Loop Become Cumulative\n\nfor i in range(0,PivotTable_df.shape[0]):\n    for j in range(0,PivotTable_df.shape[1]):\n        if(j==0):\n            PivotTable_df.iloc[i,j] = PivotTable_df.iloc[i,j]\n        else:\n            PivotTable_df.iloc[i,j]=PivotTable_df.iloc[i,j]+PivotTable_df.iloc[i,j-1]"
        },
        {
            "cell_type": "code",
            "execution_count": 29,
            "metadata": {},
            "outputs": [
                {
                    "data": {
                        "text/html": "<div>\n<style scoped>\n    .dataframe tbody tr th:only-of-type {\n        vertical-align: middle;\n    }\n\n    .dataframe tbody tr th {\n        vertical-align: top;\n    }\n\n    .dataframe thead tr th {\n        text-align: left;\n    }\n\n    .dataframe thead tr:last-of-type th {\n        text-align: right;\n    }\n</style>\n<table border=\"1\" class=\"dataframe\">\n  <thead>\n    <tr>\n      <th></th>\n      <th colspan=\"7\" halign=\"left\">sum</th>\n    </tr>\n    <tr>\n      <th>YearMonth</th>\n      <th>2020-01</th>\n      <th>2020-02</th>\n      <th>2020-03</th>\n      <th>2020-04</th>\n      <th>2020-05</th>\n      <th>2020-06</th>\n      <th>2020-07</th>\n    </tr>\n    <tr>\n      <th>WHO Region</th>\n      <th></th>\n      <th></th>\n      <th></th>\n      <th></th>\n      <th></th>\n      <th></th>\n      <th></th>\n    </tr>\n  </thead>\n  <tbody>\n    <tr>\n      <th>Africa</th>\n      <td>0</td>\n      <td>7</td>\n      <td>27705</td>\n      <td>414522</td>\n      <td>2252800</td>\n      <td>7973892</td>\n      <td>21790758</td>\n    </tr>\n    <tr>\n      <th>Americas</th>\n      <td>50</td>\n      <td>686</td>\n      <td>1271013</td>\n      <td>24586166</td>\n      <td>89495650</td>\n      <td>211091151</td>\n      <td>402261194</td>\n    </tr>\n    <tr>\n      <th>Eastern Mediterranean</th>\n      <td>12</td>\n      <td>2343</td>\n      <td>617846</td>\n      <td>4161224</td>\n      <td>14630979</td>\n      <td>38782477</td>\n      <td>74082892</td>\n    </tr>\n    <tr>\n      <th>Europe</th>\n      <td>58</td>\n      <td>6152</td>\n      <td>4168626</td>\n      <td>35705912</td>\n      <td>93760455</td>\n      <td>167374666</td>\n      <td>248875796</td>\n    </tr>\n    <tr>\n      <th>South-East Asia</th>\n      <td>108</td>\n      <td>1182</td>\n      <td>39358</td>\n      <td>814686</td>\n      <td>5359618</td>\n      <td>20794409</td>\n      <td>55118365</td>\n    </tr>\n    <tr>\n      <th>Western Pacific</th>\n      <td>38306</td>\n      <td>1691601</td>\n      <td>4578894</td>\n      <td>8412426</td>\n      <td>13583038</td>\n      <td>19590530</td>\n      <td>26372899</td>\n    </tr>\n  </tbody>\n</table>\n</div>",
                        "text/plain": "                          sum                                        \\\nYearMonth             2020-01  2020-02  2020-03   2020-04   2020-05   \nWHO Region                                                            \nAfrica                      0        7    27705    414522   2252800   \nAmericas                   50      686  1271013  24586166  89495650   \nEastern Mediterranean      12     2343   617846   4161224  14630979   \nEurope                     58     6152  4168626  35705912  93760455   \nSouth-East Asia           108     1182    39358    814686   5359618   \nWestern Pacific         38306  1691601  4578894   8412426  13583038   \n\n                                             \nYearMonth                2020-06    2020-07  \nWHO Region                                   \nAfrica                   7973892   21790758  \nAmericas               211091151  402261194  \nEastern Mediterranean   38782477   74082892  \nEurope                 167374666  248875796  \nSouth-East Asia         20794409   55118365  \nWestern Pacific         19590530   26372899  "
                    },
                    "execution_count": 29,
                    "metadata": {},
                    "output_type": "execute_result"
                }
            ],
            "source": "#Cumulative PivotTable_df\nPivotTable_df"
        },
        {
            "cell_type": "code",
            "execution_count": 30,
            "metadata": {},
            "outputs": [],
            "source": "for i in range(0,PivotTable_df.shape[0]):\n    for j in range(PivotTable_df.shape[1],0,-1):\n        k = j - 1\n        if(k==0):\n            PivotTable_df.iloc[i,k] = str(round((PivotTable_df.iloc[i,k] / 1)*100,2)) + \"%\"\n        else:\n            if(PivotTable_df.iloc[i,k-1] == 0):\n                PivotTable_df.iloc[i,k] = str(round((PivotTable_df.iloc[i,k] / 1)*100,2)) + \"%\"\n            else:    \n                PivotTable_df.iloc[i,k] = str(round((PivotTable_df.iloc[i,k] / PivotTable_df.iloc[i,k-1])*100,2)) + \"%\"\n        "
        },
        {
            "cell_type": "code",
            "execution_count": 31,
            "metadata": {
                "scrolled": true
            },
            "outputs": [
                {
                    "data": {
                        "text/html": "<div>\n<style scoped>\n    .dataframe tbody tr th:only-of-type {\n        vertical-align: middle;\n    }\n\n    .dataframe tbody tr th {\n        vertical-align: top;\n    }\n\n    .dataframe thead tr th {\n        text-align: left;\n    }\n\n    .dataframe thead tr:last-of-type th {\n        text-align: right;\n    }\n</style>\n<table border=\"1\" class=\"dataframe\">\n  <thead>\n    <tr>\n      <th></th>\n      <th colspan=\"7\" halign=\"left\">sum</th>\n    </tr>\n    <tr>\n      <th>YearMonth</th>\n      <th>2020-01</th>\n      <th>2020-02</th>\n      <th>2020-03</th>\n      <th>2020-04</th>\n      <th>2020-05</th>\n      <th>2020-06</th>\n      <th>2020-07</th>\n    </tr>\n    <tr>\n      <th>WHO Region</th>\n      <th></th>\n      <th></th>\n      <th></th>\n      <th></th>\n      <th></th>\n      <th></th>\n      <th></th>\n    </tr>\n  </thead>\n  <tbody>\n    <tr>\n      <th>Africa</th>\n      <td>0.0%</td>\n      <td>700.0%</td>\n      <td>395785.71%</td>\n      <td>1496.2%</td>\n      <td>543.47%</td>\n      <td>353.95%</td>\n      <td>273.28%</td>\n    </tr>\n    <tr>\n      <th>Americas</th>\n      <td>5000.0%</td>\n      <td>1372.0%</td>\n      <td>185278.86%</td>\n      <td>1934.38%</td>\n      <td>364.01%</td>\n      <td>235.87%</td>\n      <td>190.56%</td>\n    </tr>\n    <tr>\n      <th>Eastern Mediterranean</th>\n      <td>1200.0%</td>\n      <td>19525.0%</td>\n      <td>26369.87%</td>\n      <td>673.51%</td>\n      <td>351.6%</td>\n      <td>265.07%</td>\n      <td>191.02%</td>\n    </tr>\n    <tr>\n      <th>Europe</th>\n      <td>5800.0%</td>\n      <td>10606.9%</td>\n      <td>67760.5%</td>\n      <td>856.54%</td>\n      <td>262.59%</td>\n      <td>178.51%</td>\n      <td>148.69%</td>\n    </tr>\n    <tr>\n      <th>South-East Asia</th>\n      <td>10800.0%</td>\n      <td>1094.44%</td>\n      <td>3329.78%</td>\n      <td>2069.94%</td>\n      <td>657.88%</td>\n      <td>387.98%</td>\n      <td>265.06%</td>\n    </tr>\n    <tr>\n      <th>Western Pacific</th>\n      <td>3830600.0%</td>\n      <td>4416.02%</td>\n      <td>270.68%</td>\n      <td>183.72%</td>\n      <td>161.46%</td>\n      <td>144.23%</td>\n      <td>134.62%</td>\n    </tr>\n  </tbody>\n</table>\n</div>",
                        "text/plain": "                              sum                                           \\\nYearMonth                 2020-01   2020-02     2020-03   2020-04  2020-05   \nWHO Region                                                                   \nAfrica                       0.0%    700.0%  395785.71%   1496.2%  543.47%   \nAmericas                  5000.0%   1372.0%  185278.86%  1934.38%  364.01%   \nEastern Mediterranean     1200.0%  19525.0%   26369.87%   673.51%   351.6%   \nEurope                    5800.0%  10606.9%    67760.5%   856.54%  262.59%   \nSouth-East Asia          10800.0%  1094.44%    3329.78%  2069.94%  657.88%   \nWestern Pacific        3830600.0%  4416.02%     270.68%   183.72%  161.46%   \n\n                                         \nYearMonth              2020-06  2020-07  \nWHO Region                               \nAfrica                 353.95%  273.28%  \nAmericas               235.87%  190.56%  \nEastern Mediterranean  265.07%  191.02%  \nEurope                 178.51%  148.69%  \nSouth-East Asia        387.98%  265.06%  \nWestern Pacific        144.23%  134.62%  "
                    },
                    "execution_count": 31,
                    "metadata": {},
                    "output_type": "execute_result"
                }
            ],
            "source": "PivotTable_df"
        },
        {
            "cell_type": "code",
            "execution_count": 32,
            "metadata": {},
            "outputs": [],
            "source": "# In 2020-01 Western Pacific\n# In 2020-02 Eastern Mediterranean\n# In 2020-03 Africa\n# In 2020-04 South-East Asia\n# In 2020-05 South-East Asia\n# In 2020-06 South-East Asia\n# In 2020-07 Africa\t"
        },
        {
            "cell_type": "markdown",
            "metadata": {},
            "source": "## Q4 Graph showing the pattern of each country by month"
        },
        {
            "cell_type": "code",
            "execution_count": 33,
            "metadata": {},
            "outputs": [
                {
                    "data": {
                        "text/html": "<div>\n<style scoped>\n    .dataframe tbody tr th:only-of-type {\n        vertical-align: middle;\n    }\n\n    .dataframe tbody tr th {\n        vertical-align: top;\n    }\n\n    .dataframe thead tr th {\n        text-align: left;\n    }\n</style>\n<table border=\"1\" class=\"dataframe\">\n  <thead>\n    <tr>\n      <th></th>\n      <th>YearMonth</th>\n      <th>Country/Region</th>\n      <th>Confirmed</th>\n      <th>Deaths</th>\n      <th>Recovered</th>\n      <th>Active</th>\n    </tr>\n    <tr>\n      <th></th>\n      <th></th>\n      <th></th>\n      <th>sum</th>\n      <th>sum</th>\n      <th>sum</th>\n      <th>sum</th>\n    </tr>\n  </thead>\n  <tbody>\n    <tr>\n      <th>0</th>\n      <td>2020-01</td>\n      <td>Afghanistan</td>\n      <td>0</td>\n      <td>0</td>\n      <td>0</td>\n      <td>0</td>\n    </tr>\n    <tr>\n      <th>1</th>\n      <td>2020-01</td>\n      <td>Albania</td>\n      <td>0</td>\n      <td>0</td>\n      <td>0</td>\n      <td>0</td>\n    </tr>\n    <tr>\n      <th>2</th>\n      <td>2020-01</td>\n      <td>Algeria</td>\n      <td>0</td>\n      <td>0</td>\n      <td>0</td>\n      <td>0</td>\n    </tr>\n    <tr>\n      <th>3</th>\n      <td>2020-01</td>\n      <td>Andorra</td>\n      <td>0</td>\n      <td>0</td>\n      <td>0</td>\n      <td>0</td>\n    </tr>\n    <tr>\n      <th>4</th>\n      <td>2020-01</td>\n      <td>Angola</td>\n      <td>0</td>\n      <td>0</td>\n      <td>0</td>\n      <td>0</td>\n    </tr>\n    <tr>\n      <th>5</th>\n      <td>2020-01</td>\n      <td>Antigua and Barbuda</td>\n      <td>0</td>\n      <td>0</td>\n      <td>0</td>\n      <td>0</td>\n    </tr>\n    <tr>\n      <th>6</th>\n      <td>2020-01</td>\n      <td>Argentina</td>\n      <td>0</td>\n      <td>0</td>\n      <td>0</td>\n      <td>0</td>\n    </tr>\n    <tr>\n      <th>7</th>\n      <td>2020-01</td>\n      <td>Armenia</td>\n      <td>0</td>\n      <td>0</td>\n      <td>0</td>\n      <td>0</td>\n    </tr>\n    <tr>\n      <th>8</th>\n      <td>2020-01</td>\n      <td>Australia</td>\n      <td>38</td>\n      <td>0</td>\n      <td>4</td>\n      <td>34</td>\n    </tr>\n    <tr>\n      <th>9</th>\n      <td>2020-01</td>\n      <td>Austria</td>\n      <td>0</td>\n      <td>0</td>\n      <td>0</td>\n      <td>0</td>\n    </tr>\n    <tr>\n      <th>10</th>\n      <td>2020-01</td>\n      <td>Azerbaijan</td>\n      <td>0</td>\n      <td>0</td>\n      <td>0</td>\n      <td>0</td>\n    </tr>\n    <tr>\n      <th>11</th>\n      <td>2020-01</td>\n      <td>Bahamas</td>\n      <td>0</td>\n      <td>0</td>\n      <td>0</td>\n      <td>0</td>\n    </tr>\n    <tr>\n      <th>12</th>\n      <td>2020-01</td>\n      <td>Bahrain</td>\n      <td>0</td>\n      <td>0</td>\n      <td>0</td>\n      <td>0</td>\n    </tr>\n    <tr>\n      <th>13</th>\n      <td>2020-01</td>\n      <td>Bangladesh</td>\n      <td>0</td>\n      <td>0</td>\n      <td>0</td>\n      <td>0</td>\n    </tr>\n    <tr>\n      <th>14</th>\n      <td>2020-01</td>\n      <td>Barbados</td>\n      <td>0</td>\n      <td>0</td>\n      <td>0</td>\n      <td>0</td>\n    </tr>\n    <tr>\n      <th>15</th>\n      <td>2020-01</td>\n      <td>Belarus</td>\n      <td>0</td>\n      <td>0</td>\n      <td>0</td>\n      <td>0</td>\n    </tr>\n    <tr>\n      <th>16</th>\n      <td>2020-01</td>\n      <td>Belgium</td>\n      <td>0</td>\n      <td>0</td>\n      <td>0</td>\n      <td>0</td>\n    </tr>\n    <tr>\n      <th>17</th>\n      <td>2020-01</td>\n      <td>Belize</td>\n      <td>0</td>\n      <td>0</td>\n      <td>0</td>\n      <td>0</td>\n    </tr>\n    <tr>\n      <th>18</th>\n      <td>2020-01</td>\n      <td>Benin</td>\n      <td>0</td>\n      <td>0</td>\n      <td>0</td>\n      <td>0</td>\n    </tr>\n    <tr>\n      <th>19</th>\n      <td>2020-01</td>\n      <td>Bhutan</td>\n      <td>0</td>\n      <td>0</td>\n      <td>0</td>\n      <td>0</td>\n    </tr>\n    <tr>\n      <th>20</th>\n      <td>2020-01</td>\n      <td>Bolivia</td>\n      <td>0</td>\n      <td>0</td>\n      <td>0</td>\n      <td>0</td>\n    </tr>\n    <tr>\n      <th>21</th>\n      <td>2020-01</td>\n      <td>Bosnia and Herzegovina</td>\n      <td>0</td>\n      <td>0</td>\n      <td>0</td>\n      <td>0</td>\n    </tr>\n    <tr>\n      <th>22</th>\n      <td>2020-01</td>\n      <td>Botswana</td>\n      <td>0</td>\n      <td>0</td>\n      <td>0</td>\n      <td>0</td>\n    </tr>\n    <tr>\n      <th>23</th>\n      <td>2020-01</td>\n      <td>Brazil</td>\n      <td>0</td>\n      <td>0</td>\n      <td>0</td>\n      <td>0</td>\n    </tr>\n    <tr>\n      <th>24</th>\n      <td>2020-01</td>\n      <td>Brunei</td>\n      <td>0</td>\n      <td>0</td>\n      <td>0</td>\n      <td>0</td>\n    </tr>\n    <tr>\n      <th>25</th>\n      <td>2020-01</td>\n      <td>Bulgaria</td>\n      <td>0</td>\n      <td>0</td>\n      <td>0</td>\n      <td>0</td>\n    </tr>\n    <tr>\n      <th>26</th>\n      <td>2020-01</td>\n      <td>Burkina Faso</td>\n      <td>0</td>\n      <td>0</td>\n      <td>0</td>\n      <td>0</td>\n    </tr>\n    <tr>\n      <th>27</th>\n      <td>2020-01</td>\n      <td>Burma</td>\n      <td>0</td>\n      <td>0</td>\n      <td>0</td>\n      <td>0</td>\n    </tr>\n    <tr>\n      <th>28</th>\n      <td>2020-01</td>\n      <td>Burundi</td>\n      <td>0</td>\n      <td>0</td>\n      <td>0</td>\n      <td>0</td>\n    </tr>\n    <tr>\n      <th>29</th>\n      <td>2020-01</td>\n      <td>Cabo Verde</td>\n      <td>0</td>\n      <td>0</td>\n      <td>0</td>\n      <td>0</td>\n    </tr>\n    <tr>\n      <th>30</th>\n      <td>2020-01</td>\n      <td>Cambodia</td>\n      <td>5</td>\n      <td>0</td>\n      <td>0</td>\n      <td>5</td>\n    </tr>\n    <tr>\n      <th>31</th>\n      <td>2020-01</td>\n      <td>Cameroon</td>\n      <td>0</td>\n      <td>0</td>\n      <td>0</td>\n      <td>0</td>\n    </tr>\n    <tr>\n      <th>32</th>\n      <td>2020-01</td>\n      <td>Canada</td>\n      <td>12</td>\n      <td>0</td>\n      <td>0</td>\n      <td>12</td>\n    </tr>\n    <tr>\n      <th>33</th>\n      <td>2020-01</td>\n      <td>Central African Republic</td>\n      <td>0</td>\n      <td>0</td>\n      <td>0</td>\n      <td>0</td>\n    </tr>\n    <tr>\n      <th>34</th>\n      <td>2020-01</td>\n      <td>Chad</td>\n      <td>0</td>\n      <td>0</td>\n      <td>0</td>\n      <td>0</td>\n    </tr>\n    <tr>\n      <th>35</th>\n      <td>2020-01</td>\n      <td>Chile</td>\n      <td>0</td>\n      <td>0</td>\n      <td>0</td>\n      <td>0</td>\n    </tr>\n    <tr>\n      <th>36</th>\n      <td>2020-01</td>\n      <td>China</td>\n      <td>38008</td>\n      <td>889</td>\n      <td>804</td>\n      <td>36315</td>\n    </tr>\n    <tr>\n      <th>37</th>\n      <td>2020-01</td>\n      <td>Colombia</td>\n      <td>0</td>\n      <td>0</td>\n      <td>0</td>\n      <td>0</td>\n    </tr>\n    <tr>\n      <th>38</th>\n      <td>2020-01</td>\n      <td>Comoros</td>\n      <td>0</td>\n      <td>0</td>\n      <td>0</td>\n      <td>0</td>\n    </tr>\n    <tr>\n      <th>39</th>\n      <td>2020-01</td>\n      <td>Congo (Brazzaville)</td>\n      <td>0</td>\n      <td>0</td>\n      <td>0</td>\n      <td>0</td>\n    </tr>\n    <tr>\n      <th>40</th>\n      <td>2020-01</td>\n      <td>Congo (Kinshasa)</td>\n      <td>0</td>\n      <td>0</td>\n      <td>0</td>\n      <td>0</td>\n    </tr>\n    <tr>\n      <th>41</th>\n      <td>2020-01</td>\n      <td>Costa Rica</td>\n      <td>0</td>\n      <td>0</td>\n      <td>0</td>\n      <td>0</td>\n    </tr>\n    <tr>\n      <th>42</th>\n      <td>2020-01</td>\n      <td>Cote d'Ivoire</td>\n      <td>0</td>\n      <td>0</td>\n      <td>0</td>\n      <td>0</td>\n    </tr>\n    <tr>\n      <th>43</th>\n      <td>2020-01</td>\n      <td>Croatia</td>\n      <td>0</td>\n      <td>0</td>\n      <td>0</td>\n      <td>0</td>\n    </tr>\n    <tr>\n      <th>44</th>\n      <td>2020-01</td>\n      <td>Cuba</td>\n      <td>0</td>\n      <td>0</td>\n      <td>0</td>\n      <td>0</td>\n    </tr>\n    <tr>\n      <th>45</th>\n      <td>2020-01</td>\n      <td>Cyprus</td>\n      <td>0</td>\n      <td>0</td>\n      <td>0</td>\n      <td>0</td>\n    </tr>\n    <tr>\n      <th>46</th>\n      <td>2020-01</td>\n      <td>Czechia</td>\n      <td>0</td>\n      <td>0</td>\n      <td>0</td>\n      <td>0</td>\n    </tr>\n    <tr>\n      <th>47</th>\n      <td>2020-01</td>\n      <td>Denmark</td>\n      <td>0</td>\n      <td>0</td>\n      <td>0</td>\n      <td>0</td>\n    </tr>\n    <tr>\n      <th>48</th>\n      <td>2020-01</td>\n      <td>Djibouti</td>\n      <td>0</td>\n      <td>0</td>\n      <td>0</td>\n      <td>0</td>\n    </tr>\n    <tr>\n      <th>49</th>\n      <td>2020-01</td>\n      <td>Dominica</td>\n      <td>0</td>\n      <td>0</td>\n      <td>0</td>\n      <td>0</td>\n    </tr>\n  </tbody>\n</table>\n</div>",
                        "text/plain": "   YearMonth            Country/Region Confirmed Deaths Recovered Active\n                                             sum    sum       sum    sum\n0    2020-01               Afghanistan         0      0         0      0\n1    2020-01                   Albania         0      0         0      0\n2    2020-01                   Algeria         0      0         0      0\n3    2020-01                   Andorra         0      0         0      0\n4    2020-01                    Angola         0      0         0      0\n5    2020-01       Antigua and Barbuda         0      0         0      0\n6    2020-01                 Argentina         0      0         0      0\n7    2020-01                   Armenia         0      0         0      0\n8    2020-01                 Australia        38      0         4     34\n9    2020-01                   Austria         0      0         0      0\n10   2020-01                Azerbaijan         0      0         0      0\n11   2020-01                   Bahamas         0      0         0      0\n12   2020-01                   Bahrain         0      0         0      0\n13   2020-01                Bangladesh         0      0         0      0\n14   2020-01                  Barbados         0      0         0      0\n15   2020-01                   Belarus         0      0         0      0\n16   2020-01                   Belgium         0      0         0      0\n17   2020-01                    Belize         0      0         0      0\n18   2020-01                     Benin         0      0         0      0\n19   2020-01                    Bhutan         0      0         0      0\n20   2020-01                   Bolivia         0      0         0      0\n21   2020-01    Bosnia and Herzegovina         0      0         0      0\n22   2020-01                  Botswana         0      0         0      0\n23   2020-01                    Brazil         0      0         0      0\n24   2020-01                    Brunei         0      0         0      0\n25   2020-01                  Bulgaria         0      0         0      0\n26   2020-01              Burkina Faso         0      0         0      0\n27   2020-01                     Burma         0      0         0      0\n28   2020-01                   Burundi         0      0         0      0\n29   2020-01                Cabo Verde         0      0         0      0\n30   2020-01                  Cambodia         5      0         0      5\n31   2020-01                  Cameroon         0      0         0      0\n32   2020-01                    Canada        12      0         0     12\n33   2020-01  Central African Republic         0      0         0      0\n34   2020-01                      Chad         0      0         0      0\n35   2020-01                     Chile         0      0         0      0\n36   2020-01                     China     38008    889       804  36315\n37   2020-01                  Colombia         0      0         0      0\n38   2020-01                   Comoros         0      0         0      0\n39   2020-01       Congo (Brazzaville)         0      0         0      0\n40   2020-01          Congo (Kinshasa)         0      0         0      0\n41   2020-01                Costa Rica         0      0         0      0\n42   2020-01             Cote d'Ivoire         0      0         0      0\n43   2020-01                   Croatia         0      0         0      0\n44   2020-01                      Cuba         0      0         0      0\n45   2020-01                    Cyprus         0      0         0      0\n46   2020-01                   Czechia         0      0         0      0\n47   2020-01                   Denmark         0      0         0      0\n48   2020-01                  Djibouti         0      0         0      0\n49   2020-01                  Dominica         0      0         0      0"
                    },
                    "execution_count": 33,
                    "metadata": {},
                    "output_type": "execute_result"
                }
            ],
            "source": "GroupCountryMonth_df = df_data_2.groupby(['YearMonth','Country/Region']).agg({'Confirmed':['sum'],'Deaths':['sum'],'Recovered':['sum'],'Active':['sum']}).reset_index()\n#GroupCountey_df = GroupCountey_df[GroupCountey_df['Country/Region']!= 0].reset_index(drop=True)\n\nGroupCountryMonth_df.head(50)"
        },
        {
            "cell_type": "code",
            "execution_count": 78,
            "metadata": {},
            "outputs": [
                {
                    "data": {
                        "text/plain": "(7, 6)"
                    },
                    "execution_count": 78,
                    "metadata": {},
                    "output_type": "execute_result"
                }
            ],
            "source": "GroupCountryMonth_df[GroupCountryMonth_df['Country/Region']=='Afghanistan'].shape"
        },
        {
            "cell_type": "code",
            "execution_count": 35,
            "metadata": {},
            "outputs": [],
            "source": "import matplotlib.pyplot as plt\nCountry_Loop = GroupCountryMonth_df['Country/Region'].unique()"
        },
        {
            "cell_type": "code",
            "execution_count": 118,
            "metadata": {},
            "outputs": [
                {
                    "ename": "NameError",
                    "evalue": "name 'autolabel' is not defined",
                    "output_type": "error",
                    "traceback": [
                        "\u001b[0;31m---------------------------------------------------------------------------\u001b[0m",
                        "\u001b[0;31mNameError\u001b[0m                                 Traceback (most recent call last)",
                        "\u001b[0;32m<ipython-input-118-c09671a65a26>\u001b[0m in \u001b[0;36m<module>\u001b[0;34m\u001b[0m\n\u001b[1;32m     17\u001b[0m     \u001b[0ma4\u001b[0m \u001b[0;34m=\u001b[0m \u001b[0mplt\u001b[0m\u001b[0;34m.\u001b[0m\u001b[0mbar\u001b[0m\u001b[0;34m(\u001b[0m\u001b[0mx\u001b[0m\u001b[0;34m,\u001b[0m \u001b[0my4\u001b[0m\u001b[0;34m,\u001b[0m \u001b[0mcolor\u001b[0m\u001b[0;34m=\u001b[0m\u001b[0;34m'blue'\u001b[0m\u001b[0;34m)\u001b[0m\u001b[0;34m\u001b[0m\u001b[0;34m\u001b[0m\u001b[0m\n\u001b[1;32m     18\u001b[0m     \u001b[0mplt\u001b[0m\u001b[0;34m.\u001b[0m\u001b[0mlegend\u001b[0m\u001b[0;34m(\u001b[0m\u001b[0;34m[\u001b[0m\u001b[0ma1\u001b[0m\u001b[0;34m,\u001b[0m \u001b[0ma2\u001b[0m\u001b[0;34m,\u001b[0m \u001b[0ma3\u001b[0m\u001b[0;34m,\u001b[0m \u001b[0ma4\u001b[0m\u001b[0;34m]\u001b[0m\u001b[0;34m,\u001b[0m \u001b[0;34m[\u001b[0m\u001b[0;34m'Confirmed'\u001b[0m\u001b[0;34m,\u001b[0m \u001b[0;34m'Deaths'\u001b[0m\u001b[0;34m,\u001b[0m \u001b[0;34m'Recovered'\u001b[0m\u001b[0;34m,\u001b[0m \u001b[0;34m'Active'\u001b[0m\u001b[0;34m]\u001b[0m\u001b[0;34m,\u001b[0m \u001b[0mloc\u001b[0m \u001b[0;34m=\u001b[0m \u001b[0;36m0\u001b[0m\u001b[0;34m)\u001b[0m\u001b[0;34m\u001b[0m\u001b[0;34m\u001b[0m\u001b[0m\n\u001b[0;32m---> 19\u001b[0;31m     \u001b[0mautolabel\u001b[0m\u001b[0;34m(\u001b[0m\u001b[0ma1\u001b[0m\u001b[0;34m)\u001b[0m\u001b[0;34m\u001b[0m\u001b[0;34m\u001b[0m\u001b[0m\n\u001b[0m\u001b[1;32m     20\u001b[0m     \u001b[0mautolabel\u001b[0m\u001b[0;34m(\u001b[0m\u001b[0ma2\u001b[0m\u001b[0;34m)\u001b[0m\u001b[0;34m\u001b[0m\u001b[0;34m\u001b[0m\u001b[0m\n\u001b[1;32m     21\u001b[0m     \u001b[0mautolabel\u001b[0m\u001b[0;34m(\u001b[0m\u001b[0ma3\u001b[0m\u001b[0;34m)\u001b[0m\u001b[0;34m\u001b[0m\u001b[0;34m\u001b[0m\u001b[0m\n",
                        "\u001b[0;31mNameError\u001b[0m: name 'autolabel' is not defined"
                    ]
                },
                {
                    "data": {
                        "image/png": "[encoded data removed]",
                        "text/plain": "<Figure size 504x252 with 1 Axes>"
                    },
                    "metadata": {
                        "needs_background": "light"
                    },
                    "output_type": "display_data"
                }
            ],
            "source": "for i in Country_Loop:\n    current_df = GroupCountryMonth_df[GroupCountryMonth_df['Country/Region']==i]\n    x = ['2020-01','2020-02','2020-03','2020-04','2020-05','2020-06','2020-07']   ##(list(current_df['YearMonth']))\n    y1 = current_df[('Confirmed','sum')]\n    y2 = current_df[('Deaths','sum')]\n    y3 = current_df[('Recovered','sum')]\n    y4 = current_df[('Active','sum')]\n\n    # plot stacked bar chart \n    plt.ticklabel_format(style = 'plain')\n    plt.title(i)\n    plt.xlabel(\"Year Month\")\n    plt.ylabel(\"Frequecy\")\n    a1 = plt.bar(x, y1, color='red')\n    a2 = plt.bar(x, y2, color='grey')\n    a3 = plt.bar(x, y3, color='green')\n    a4 = plt.bar(x, y4, color='blue')\n    plt.legend([a1, a2, a3, a4], ['Confirmed', 'Deaths', 'Recovered', 'Active'], loc = 0)\n\n    plt.show()"
        },
        {
            "cell_type": "markdown",
            "metadata": {},
            "source": "# Scripting currency "
        },
        {
            "cell_type": "code",
            "execution_count": 41,
            "metadata": {},
            "outputs": [
                {
                    "name": "stdout",
                    "output_type": "stream",
                    "text": "/opt/conda/envs/Python-3.7-main/lib/python3.7/site-packages/secretstorage/dhcrypto.py:16: CryptographyDeprecationWarning: int_from_bytes is deprecated, use int.from_bytes instead\n  from cryptography.utils import int_from_bytes\n/opt/conda/envs/Python-3.7-main/lib/python3.7/site-packages/secretstorage/util.py:25: CryptographyDeprecationWarning: int_from_bytes is deprecated, use int.from_bytes instead\n  from cryptography.utils import int_from_bytes\nCollecting forex_python\n  Downloading forex_python-1.6-py3-none-any.whl (8.1 kB)\nCollecting simplejson\n  Downloading simplejson-3.17.2-cp37-cp37m-manylinux2010_x86_64.whl (128 kB)\n\u001b[K     |\u2588\u2588\u2588\u2588\u2588\u2588\u2588\u2588\u2588\u2588\u2588\u2588\u2588\u2588\u2588\u2588\u2588\u2588\u2588\u2588\u2588\u2588\u2588\u2588\u2588\u2588\u2588\u2588\u2588\u2588\u2588\u2588| 128 kB 11.3 MB/s eta 0:00:01\n\u001b[?25hRequirement already satisfied: requests in /opt/conda/envs/Python-3.7-main/lib/python3.7/site-packages (from forex_python) (2.24.0)\nRequirement already satisfied: certifi>=2017.4.17 in /opt/conda/envs/Python-3.7-main/lib/python3.7/site-packages (from requests->forex_python) (2021.5.30)\nRequirement already satisfied: urllib3!=1.25.0,!=1.25.1,<1.26,>=1.21.1 in /opt/conda/envs/Python-3.7-main/lib/python3.7/site-packages (from requests->forex_python) (1.25.9)\nRequirement already satisfied: idna<3,>=2.5 in /opt/conda/envs/Python-3.7-main/lib/python3.7/site-packages (from requests->forex_python) (2.9)\nRequirement already satisfied: chardet<4,>=3.0.2 in /opt/conda/envs/Python-3.7-main/lib/python3.7/site-packages (from requests->forex_python) (3.0.4)\nInstalling collected packages: simplejson, forex-python\nSuccessfully installed forex-python-1.6 simplejson-3.17.2\n"
                }
            ],
            "source": "!pip install forex_python"
        },
        {
            "cell_type": "code",
            "execution_count": 103,
            "metadata": {},
            "outputs": [],
            "source": "from forex_python.converter import CurrencyRates\nc = CurrencyRates()\n\ndef CurrencyConverter (In, Out, Value):\n    print(In, \" To \", Out, Value)\n    result = c.convert(In, Out, Value)\n    print(str(round(result,2))+Out)\n    \n    "
        },
        {
            "cell_type": "code",
            "execution_count": 104,
            "metadata": {},
            "outputs": [
                {
                    "name": "stdout",
                    "output_type": "stream",
                    "text": "Below is the list of currency\n\nCurrencyName \t\t Input\n_______________________________\nAmerican Dollar \t| USD\nMalaysian Ringgit \t| MYR\nSingaporean Dollar \t| SGD\nYour Currency: usd\nEnter the amount: 200\nTo Currency: myr\nUSD  To  MYR 200.0\n832.0MYR\n"
                }
            ],
            "source": "currency_dic = {\"American Dollar\": \"USD\",\"Malaysian Ringgit\": \"MYR\",\"Singaporean Dollar\": \"SGD\"}\n\nprint(\"Below is the list of currency\")\nprint(\"\\nCurrencyName \\t\\t Input\")\nprint(\"_______________________________\")\nfor key in sorted(currency_dic):\n    print(\"{} \\t| {}\".format(key,currency_dic[key]))\n\n\n#amount = int(input(\"Enter the amount: \"))\n#from_currency = input(\"From Currency: \").upper()\n#to_currency = input(\"To Currency: \").upper()\n\nIn = str(input(\"Your Currency: \")).upper()\nwhile (In not in currency_dic.values()):\n    print(\"\\nPlease enter the input in the list above\")\n    In = str(input(\"Your Currency: \")).upper()\n    \nValue = float(input(\"Enter the amount: \"))\nwhile (Value<=0):\n    print(\"\\nMust > 0\")\n    Value = float(input(\"Enter the amount: \"))\n\n    \nOut = str(input(\"To Currency: \")).upper() \nwhile (Out not in currency_dic.values()):\n    print(\"\\nPlease enter the input in the list above\")\n    Out = str(input(\"Your Currency: \")).upper()\n    \nCurrencyConverter(In, Out, Value)"
        },
        {
            "cell_type": "code",
            "execution_count": null,
            "metadata": {},
            "outputs": [],
            "source": ""
        }
    ],
    "metadata": {
        "kernelspec": {
            "display_name": "Python 3.7",
            "language": "python",
            "name": "python3"
        },
        "language_info": {
            "codemirror_mode": {
                "name": "ipython",
                "version": 3
            },
            "file_extension": ".py",
            "mimetype": "text/x-python",
            "name": "python",
            "nbconvert_exporter": "python",
            "pygments_lexer": "ipython3",
            "version": "3.7.10"
        }
    },
    "nbformat": 4,
    "nbformat_minor": 1
}